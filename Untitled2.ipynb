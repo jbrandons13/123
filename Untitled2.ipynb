{
 "cells": [
  {
   "cell_type": "code",
   "execution_count": 1,
   "id": "b91e6a34",
   "metadata": {},
   "outputs": [
    {
     "name": "stderr",
     "output_type": "stream",
     "text": [
      "C:\\Users\\HP\\anaconda3\\lib\\site-packages\\scipy\\__init__.py:138: UserWarning: A NumPy version >=1.16.5 and <1.23.0 is required for this version of SciPy (detected version 1.24.3)\n",
      "  warnings.warn(f\"A NumPy version >={np_minversion} and <{np_maxversion} is required for this version of \"\n"
     ]
    }
   ],
   "source": [
    "import numpy as np\n",
    "from sklearn.ensemble import RandomForestClassifier\n",
    "from sklearn.model_selection import train_test_split\n",
    "from sklearn.metrics import accuracy_score\n",
    "from sklearn.preprocessing import StandardScaler"
   ]
  },
  {
   "cell_type": "code",
   "execution_count": 22,
   "id": "2c130d3e",
   "metadata": {},
   "outputs": [
    {
     "data": {
      "text/plain": [
       "(25, 25, 5, 25)"
      ]
     },
     "execution_count": 22,
     "metadata": {},
     "output_type": "execute_result"
    }
   ],
   "source": [
    "def loadseq(file):\n",
    "    lines = []\n",
    "    with open(file, 'r') as file:\n",
    "        for line in file:\n",
    "            lines.append(line.strip())\n",
    "    return lines\n",
    "\n",
    "\n",
    "glutfile = 'glutoutputnoheader.fasta'\n",
    "sgltfile = 'sgltoutputnoheader.fasta'\n",
    "hxtfile = 'hxtoutputnoheader.fasta'\n",
    "chbfile = 'chboutputnoheader.fasta'\n",
    "\n",
    "\n",
    "glut = loadseq(glutfile)\n",
    "sglt = loadseq(sgltfile)\n",
    "hxt = loadseq(hxtfile)\n",
    "chb = loadseq(chbfile)\n",
    "\n",
    "glut = glut[:25]\n",
    "hxt = hxt[:25]\n",
    "# chb = chb[:5]\n",
    "\n",
    "glutlen = len(glut)\n",
    "sgltlen = len(sglt)\n",
    "hxtlen = len(hxt)\n",
    "chblen = len(chb)\n",
    "\n",
    "len(hxt),len(glut),len(sglt),len(chb)"
   ]
  },
  {
   "cell_type": "code",
   "execution_count": 23,
   "id": "210884f4",
   "metadata": {},
   "outputs": [],
   "source": [
    "amino_acids = \"ACDEFGHIKLMNPQRSTVWY\"  # List of amino acids\n",
    "n_amino_acids = len(amino_acids)  # Number of amino acids"
   ]
  },
  {
   "cell_type": "code",
   "execution_count": 24,
   "id": "f17b6907",
   "metadata": {},
   "outputs": [],
   "source": [
    "def calculate_aac_features(sequences, amino_acids):\n",
    "    n_amino_acids = len(amino_acids)\n",
    "    features = []\n",
    "    for fasta_sequence in sequences:\n",
    "        aac = np.zeros(n_amino_acids)\n",
    "        for aa in fasta_sequence:\n",
    "            if aa in amino_acids:\n",
    "                index = amino_acids.index(aa)\n",
    "                aac[index] += 1\n",
    "\n",
    "        # Normalize the amino acid composition to obtain relative frequencies\n",
    "        aac /= len(fasta_sequence)\n",
    "\n",
    "        # Append the AAC feature vector to the feature list\n",
    "        features.append(aac)\n",
    "\n",
    "    return np.array(features)"
   ]
  },
  {
   "cell_type": "code",
   "execution_count": 25,
   "id": "65d5039e",
   "metadata": {},
   "outputs": [],
   "source": [
    "hxt_ = calculate_aac_features(hxt,amino_acids)\n",
    "glut_ = calculate_aac_features(glut,amino_acids)\n",
    "sglt_ = calculate_aac_features(sglt,amino_acids)\n",
    "chb_ = calculate_aac_features(chb,amino_acids)"
   ]
  },
  {
   "cell_type": "code",
   "execution_count": 26,
   "id": "d3e8d299",
   "metadata": {},
   "outputs": [],
   "source": [
    "x_train = np.concatenate((glut_[:glutlen-1], sglt_[:sgltlen-1], hxt_[:hxtlen-1], chb_[:chblen-1]), axis=0)\n",
    "x_test = np.concatenate((glut_[glutlen-1:], sglt_[sgltlen-1:], hxt_[hxtlen-1:], chb_[chblen-1:]), axis=0)\n",
    "\n",
    "# Create the corresponding labels\n",
    "y_train = np.array([\"GLUT\"] * (glutlen-1) + [\"SGLT\"] * (sgltlen-1) + [\"HXT\"] * (hxtlen-1) + [\"CHB\"] * (chblen-1))\n",
    "y_test = np.array([\"GLUT\"] * 1 + [\"SGLT\"] * 1 + [\"HXT\"] * 1 + [\"CHB\"] * 1)\n"
   ]
  },
  {
   "cell_type": "code",
   "execution_count": 27,
   "id": "3375f4ca",
   "metadata": {},
   "outputs": [
    {
     "data": {
      "text/plain": [
       "RandomForestClassifier()"
      ]
     },
     "execution_count": 27,
     "metadata": {},
     "output_type": "execute_result"
    }
   ],
   "source": [
    "classifier = RandomForestClassifier()\n",
    "classifier.fit(x_train, y_train)"
   ]
  },
  {
   "cell_type": "code",
   "execution_count": 28,
   "id": "531b3940",
   "metadata": {},
   "outputs": [
    {
     "name": "stdout",
     "output_type": "stream",
     "text": [
      "Training Accuracy: 1.0\n",
      "Testing Accuracy: 0.25\n"
     ]
    },
    {
     "data": {
      "text/plain": [
       "(array(['GLUT', 'SGLT', 'HXT', 'CHB'], dtype='<U4'),\n",
       " array(['CHB', 'GLUT', 'GLUT', 'CHB'], dtype='<U4'))"
      ]
     },
     "execution_count": 28,
     "metadata": {},
     "output_type": "execute_result"
    }
   ],
   "source": [
    "y_pred_train = classifier.predict(x_train)\n",
    "train_accuracy = accuracy_score(y_train, y_pred_train)\n",
    "print(\"Training Accuracy:\", train_accuracy)\n",
    "\n",
    "y_pred_test = classifier.predict(x_test)\n",
    "test_accuracy = accuracy_score(y_test, y_pred_test)\n",
    "print(\"Testing Accuracy:\", test_accuracy)\n",
    "\n",
    "y_test, y_pred_test"
   ]
  },
  {
   "cell_type": "code",
   "execution_count": 29,
   "id": "e19d4a70",
   "metadata": {},
   "outputs": [
    {
     "name": "stdout",
     "output_type": "stream",
     "text": [
      "Training Accuracy: 0.7894736842105263\n",
      "Testing Accuracy: 0.25\n"
     ]
    },
    {
     "data": {
      "text/plain": [
       "(array(['GLUT', 'SGLT', 'HXT', 'CHB'], dtype='<U4'),\n",
       " array(['CHB', 'GLUT', 'GLUT', 'CHB'], dtype='<U4'))"
      ]
     },
     "execution_count": 29,
     "metadata": {},
     "output_type": "execute_result"
    }
   ],
   "source": [
    "from sklearn import svm\n",
    "\n",
    "clf = svm.SVC()\n",
    "clf.fit(x_train, y_train)\n",
    "\n",
    "y_pred_train = clf.predict(x_train)\n",
    "train_accuracy = accuracy_score(y_train, y_pred_train)\n",
    "print(\"Training Accuracy:\", train_accuracy)\n",
    "\n",
    "y_pred_test = clf.predict(x_test)\n",
    "test_accuracy = accuracy_score(y_test, y_pred_test)\n",
    "print(\"Testing Accuracy:\", test_accuracy)\n",
    "\n",
    "y_test, y_pred_test"
   ]
  },
  {
   "cell_type": "code",
   "execution_count": 30,
   "id": "684ac948",
   "metadata": {},
   "outputs": [
    {
     "name": "stdout",
     "output_type": "stream",
     "text": [
      "Training Accuracy: 0.7631578947368421\n",
      "Testing Accuracy: 0.25\n"
     ]
    },
    {
     "data": {
      "text/plain": [
       "(array(['GLUT', 'SGLT', 'HXT', 'CHB'], dtype='<U4'),\n",
       " array(['GLUT', 'GLUT', 'GLUT', 'SGLT'], dtype='<U4'))"
      ]
     },
     "execution_count": 30,
     "metadata": {},
     "output_type": "execute_result"
    }
   ],
   "source": [
    "from sklearn.neighbors import KNeighborsClassifier\n",
    "knn = KNeighborsClassifier(n_neighbors=4)\n",
    "knn.fit(x_train, y_train)\n",
    "\n",
    "y_pred_train = knn.predict(x_train)\n",
    "train_accuracy = accuracy_score(y_train, y_pred_train)\n",
    "print(\"Training Accuracy:\", train_accuracy)\n",
    "\n",
    "y_pred_test = knn.predict(x_test)\n",
    "test_accuracy = accuracy_score(y_test, y_pred_test)\n",
    "print(\"Testing Accuracy:\", test_accuracy)\n",
    "\n",
    "y_test, y_pred_test"
   ]
  },
  {
   "cell_type": "code",
   "execution_count": 31,
   "id": "77085e7d",
   "metadata": {},
   "outputs": [
    {
     "data": {
      "text/plain": [
       "XGBClassifier(base_score=None, booster=None, callbacks=None,\n",
       "              colsample_bylevel=None, colsample_bynode=None,\n",
       "              colsample_bytree=None, early_stopping_rounds=None,\n",
       "              enable_categorical=False, eval_metric=None, feature_types=None,\n",
       "              gamma=None, gpu_id=None, grow_policy=None, importance_type=None,\n",
       "              interaction_constraints=None, learning_rate=None, max_bin=None,\n",
       "              max_cat_threshold=None, max_cat_to_onehot=None,\n",
       "              max_delta_step=None, max_depth=None, max_leaves=None,\n",
       "              min_child_weight=None, missing=nan, monotone_constraints=None,\n",
       "              n_estimators=100, n_jobs=None, num_class=76,\n",
       "              num_parallel_tree=None, objective='multi:softmax', ...)"
      ]
     },
     "execution_count": 31,
     "metadata": {},
     "output_type": "execute_result"
    }
   ],
   "source": [
    "import xgboost as xgb\n",
    "from sklearn.preprocessing import LabelEncoder\n",
    "\n",
    "encoder = LabelEncoder()\n",
    "y_train = encoder.fit_transform(y_train)\n",
    "y_test = encoder.fit_transform(y_test)\n",
    "model = xgb.XGBClassifier(objective='multi:softmax', num_class=len(y_train))\n",
    "model.fit(x_train, y_train)"
   ]
  },
  {
   "cell_type": "code",
   "execution_count": 32,
   "id": "4c0c0eec",
   "metadata": {},
   "outputs": [
    {
     "name": "stdout",
     "output_type": "stream",
     "text": [
      "Training Accuracy: 1.0\n",
      "Testing Accuracy: 0.75\n"
     ]
    },
    {
     "data": {
      "text/plain": [
       "(array(['GLUT', 'SGLT', 'HXT', 'CHB'], dtype='<U4'),\n",
       " array(['CHB', 'SGLT', 'HXT', 'CHB'], dtype='<U4'))"
      ]
     },
     "execution_count": 32,
     "metadata": {},
     "output_type": "execute_result"
    }
   ],
   "source": [
    "y_pred_train = model.predict(x_train)\n",
    "train_accuracy = accuracy_score(y_train, y_pred_train)\n",
    "print(\"Training Accuracy:\", train_accuracy)\n",
    "\n",
    "y_pred_test = model.predict(x_test)\n",
    "test_accuracy = accuracy_score(y_test, y_pred_test)\n",
    "print(\"Testing Accuracy:\", test_accuracy)\n",
    "\n",
    "y_test = encoder.inverse_transform(y_test)\n",
    "y_pred_test = encoder.inverse_transform(y_pred_test)\n",
    "y_test, y_pred_test"
   ]
  },
  {
   "cell_type": "code",
   "execution_count": null,
   "id": "d00adbd0",
   "metadata": {},
   "outputs": [],
   "source": []
  },
  {
   "cell_type": "code",
   "execution_count": null,
   "id": "8ad62e04",
   "metadata": {},
   "outputs": [],
   "source": []
  }
 ],
 "metadata": {
  "kernelspec": {
   "display_name": "Python 3",
   "language": "python",
   "name": "python3"
  },
  "language_info": {
   "codemirror_mode": {
    "name": "ipython",
    "version": 3
   },
   "file_extension": ".py",
   "mimetype": "text/x-python",
   "name": "python",
   "nbconvert_exporter": "python",
   "pygments_lexer": "ipython3",
   "version": "3.8.8"
  }
 },
 "nbformat": 4,
 "nbformat_minor": 5
}
