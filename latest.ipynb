{
 "cells": [
  {
   "cell_type": "code",
   "execution_count": 74,
   "id": "b91e6a34",
   "metadata": {},
   "outputs": [],
   "source": [
    "import numpy as np\n",
    "from sklearn.ensemble import RandomForestClassifier\n",
    "from sklearn.model_selection import train_test_split\n",
    "from sklearn.metrics import accuracy_score\n",
    "from sklearn.preprocessing import StandardScaler"
   ]
  },
  {
   "cell_type": "code",
   "execution_count": 75,
   "id": "2c130d3e",
   "metadata": {},
   "outputs": [
    {
     "data": {
      "text/plain": [
       "(396, 24, 675)"
      ]
     },
     "execution_count": 75,
     "metadata": {},
     "output_type": "execute_result"
    }
   ],
   "source": [
    "def loadseq(file):\n",
    "    lines = []\n",
    "    with open(file, 'r') as file:\n",
    "        for line in file:\n",
    "            lines.append(line.strip())\n",
    "    return lines\n",
    "\n",
    "\n",
    "glutfile = 'glutoutputnoheader.fasta'\n",
    "sgltfile = 'newsgltoutputnoheader.fasta'\n",
    "sweetfile = 'newsweetoutputnoheader.fasta'\n",
    "# hxtfile = 'hxtoutputnoheader.fasta'\n",
    "# chbfile = 'chboutputnoheader.fasta'\n",
    "\n",
    "\n",
    "glut = loadseq(glutfile)\n",
    "sglt = loadseq(sgltfile)\n",
    "sweet = loadseq(sweetfile)\n",
    "# hxt = loadseq(hxtfile)\n",
    "# chb = loadseq(chbfile)\n",
    "\n",
    "# glut = glut[:25]\n",
    "# hxt = hxt[:25]\n",
    "# chb = chb[:5]\n",
    "\n",
    "glutlen = len(glut)\n",
    "sgltlen = len(sglt)\n",
    "sweetlen = len(sweet)\n",
    "# hxtlen = len(hxt)\n",
    "# chblen = len(chb)\n",
    "\n",
    "len(glut),len(sglt),len(sweet)"
   ]
  },
  {
   "cell_type": "code",
   "execution_count": 76,
   "id": "210884f4",
   "metadata": {},
   "outputs": [],
   "source": [
    "amino_acids = \"ACDEFGHIKLMNPQRSTVWY\"  # List of amino acids\n",
    "n_amino_acids = len(amino_acids)  # Number of amino acids"
   ]
  },
  {
   "cell_type": "code",
   "execution_count": 77,
   "id": "f17b6907",
   "metadata": {},
   "outputs": [],
   "source": [
    "def calculate_aac_features(sequences, amino_acids):\n",
    "    n_amino_acids = len(amino_acids)\n",
    "    features = []\n",
    "    for fasta_sequence in sequences:\n",
    "        aac = np.zeros(n_amino_acids)\n",
    "        for aa in fasta_sequence:\n",
    "            if aa in amino_acids:\n",
    "                index = amino_acids.index(aa)\n",
    "                aac[index] += 1\n",
    "\n",
    "        # Normalize the amino acid composition to obtain relative frequencies\n",
    "        aac /= len(fasta_sequence)\n",
    "\n",
    "        # Append the AAC feature vector to the feature list\n",
    "        features.append(aac)\n",
    "\n",
    "    return np.array(features)"
   ]
  },
  {
   "cell_type": "code",
   "execution_count": 78,
   "id": "65d5039e",
   "metadata": {},
   "outputs": [],
   "source": [
    "glut_ = calculate_aac_features(glut,amino_acids)\n",
    "sglt_ = calculate_aac_features(sglt,amino_acids)\n",
    "sweet_ = calculate_aac_features(sweet,amino_acids)\n",
    "# hxt_ = calculate_aac_features(hxt,amino_acids)\n",
    "# chb_ = calculate_aac_features(chb,amino_acids)"
   ]
  },
  {
   "cell_type": "code",
   "execution_count": 79,
   "id": "d3e8d299",
   "metadata": {},
   "outputs": [
    {
     "data": {
      "text/plain": [
       "(1050, 20)"
      ]
     },
     "execution_count": 79,
     "metadata": {},
     "output_type": "execute_result"
    }
   ],
   "source": [
    "x_train = np.concatenate((glut_[:glutlen-20], sglt_[:sgltlen-5], sweet_[:sweetlen-20]), axis=0)\n",
    "x_test = np.concatenate((glut_[glutlen-20:], sglt_[sgltlen-5:], sweet_[sweetlen-20:]), axis=0)\n",
    "\n",
    "# x_train = np.concatenate((glut_[:glutlen-1], sglt_[:sgltlen-1], hxt_[:hxtlen-1], chb_[:chblen-1]), axis=0)\n",
    "# x_test = np.concatenate((glut_[glutlen-1:], sglt_[sgltlen-1:], hxt_[hxtlen-1:], chb_[chblen-1:]), axis=0)\n",
    "\n",
    "# Create the corresponding labels\n",
    "\n",
    "y_train = np.array([\"GLUT\"] * (glutlen-20) + [\"SGLT\"] * (sgltlen-5) + [\"SWEET\"] * (sweetlen-20))\n",
    "y_test = np.array([\"GLUT\"] * 20 + [\"SGLT\"] * 5 + [\"SWEET\"] * 20)\n",
    "\n",
    "# y_train = np.array([\"GLUT\"] * (glutlen-1) + [\"SGLT\"] * (sgltlen-1) + [\"HXT\"] * (hxtlen-1) + [\"CHB\"] * (chblen-1))\n",
    "# y_test = np.array([\"GLUT\"] * 1 + [\"SGLT\"] * 1 + [\"HXT\"] * 1 + [\"CHB\"] * 1)\n",
    "\n",
    "x_train.shape"
   ]
  },
  {
   "cell_type": "code",
   "execution_count": 80,
   "id": "531b3940",
   "metadata": {},
   "outputs": [
    {
     "name": "stdout",
     "output_type": "stream",
     "text": [
      "Training Accuracy: 0.9980952380952381\n",
      "Testing Accuracy: 0.8\n"
     ]
    },
    {
     "data": {
      "text/plain": [
       "(array(['GLUT', 'GLUT', 'GLUT', 'GLUT', 'GLUT', 'GLUT', 'GLUT', 'GLUT',\n",
       "        'GLUT', 'GLUT', 'GLUT', 'GLUT', 'GLUT', 'GLUT', 'GLUT', 'GLUT',\n",
       "        'GLUT', 'GLUT', 'GLUT', 'GLUT', 'SGLT', 'SGLT', 'SGLT', 'SGLT',\n",
       "        'SGLT', 'SWEET', 'SWEET', 'SWEET', 'SWEET', 'SWEET', 'SWEET',\n",
       "        'SWEET', 'SWEET', 'SWEET', 'SWEET', 'SWEET', 'SWEET', 'SWEET',\n",
       "        'SWEET', 'SWEET', 'SWEET', 'SWEET', 'SWEET', 'SWEET', 'SWEET'],\n",
       "       dtype='<U5'),\n",
       " array(['GLUT', 'GLUT', 'GLUT', 'GLUT', 'GLUT', 'GLUT', 'GLUT', 'GLUT',\n",
       "        'GLUT', 'GLUT', 'GLUT', 'GLUT', 'GLUT', 'GLUT', 'GLUT', 'SWEET',\n",
       "        'GLUT', 'SWEET', 'SWEET', 'GLUT', 'SGLT', 'SWEET', 'GLUT', 'GLUT',\n",
       "        'SWEET', 'SWEET', 'SWEET', 'SWEET', 'GLUT', 'SWEET', 'SWEET',\n",
       "        'SWEET', 'SWEET', 'SWEET', 'SWEET', 'SWEET', 'GLUT', 'SWEET',\n",
       "        'SWEET', 'SWEET', 'SWEET', 'SWEET', 'SWEET', 'SWEET', 'SWEET'],\n",
       "       dtype='<U5'))"
      ]
     },
     "execution_count": 80,
     "metadata": {},
     "output_type": "execute_result"
    }
   ],
   "source": [
    "classifier = RandomForestClassifier()\n",
    "classifier.fit(x_train, y_train)\n",
    "\n",
    "y_pred_train = classifier.predict(x_train)\n",
    "train_accuracy = accuracy_score(y_train, y_pred_train)\n",
    "print(\"Training Accuracy:\", train_accuracy)\n",
    "\n",
    "y_pred_test = classifier.predict(x_test)\n",
    "test_accuracy = accuracy_score(y_test, y_pred_test)\n",
    "print(\"Testing Accuracy:\", test_accuracy)\n",
    "\n",
    "y_test, y_pred_test"
   ]
  },
  {
   "cell_type": "code",
   "execution_count": 81,
   "id": "e19d4a70",
   "metadata": {},
   "outputs": [
    {
     "name": "stdout",
     "output_type": "stream",
     "text": [
      "Training Accuracy: 0.8961904761904762\n",
      "Testing Accuracy: 0.7777777777777778\n"
     ]
    },
    {
     "data": {
      "text/plain": [
       "(array(['GLUT', 'GLUT', 'GLUT', 'GLUT', 'GLUT', 'GLUT', 'GLUT', 'GLUT',\n",
       "        'GLUT', 'GLUT', 'GLUT', 'GLUT', 'GLUT', 'GLUT', 'GLUT', 'GLUT',\n",
       "        'GLUT', 'GLUT', 'GLUT', 'GLUT', 'SGLT', 'SGLT', 'SGLT', 'SGLT',\n",
       "        'SGLT', 'SWEET', 'SWEET', 'SWEET', 'SWEET', 'SWEET', 'SWEET',\n",
       "        'SWEET', 'SWEET', 'SWEET', 'SWEET', 'SWEET', 'SWEET', 'SWEET',\n",
       "        'SWEET', 'SWEET', 'SWEET', 'SWEET', 'SWEET', 'SWEET', 'SWEET'],\n",
       "       dtype='<U5'),\n",
       " array(['SWEET', 'GLUT', 'GLUT', 'GLUT', 'GLUT', 'GLUT', 'GLUT', 'GLUT',\n",
       "        'GLUT', 'GLUT', 'GLUT', 'GLUT', 'GLUT', 'GLUT', 'GLUT', 'SWEET',\n",
       "        'GLUT', 'SWEET', 'SWEET', 'GLUT', 'GLUT', 'SWEET', 'GLUT', 'GLUT',\n",
       "        'SWEET', 'SWEET', 'SWEET', 'SWEET', 'GLUT', 'SWEET', 'SWEET',\n",
       "        'SWEET', 'SWEET', 'SWEET', 'SWEET', 'SWEET', 'SWEET', 'SWEET',\n",
       "        'SWEET', 'SWEET', 'SWEET', 'SWEET', 'SWEET', 'SWEET', 'SWEET'],\n",
       "       dtype='<U5'))"
      ]
     },
     "execution_count": 81,
     "metadata": {},
     "output_type": "execute_result"
    }
   ],
   "source": [
    "from sklearn import svm\n",
    "\n",
    "clf = svm.SVC()\n",
    "clf.fit(x_train, y_train)\n",
    "\n",
    "y_pred_train = clf.predict(x_train)\n",
    "train_accuracy = accuracy_score(y_train, y_pred_train)\n",
    "print(\"Training Accuracy:\", train_accuracy)\n",
    "\n",
    "y_pred_test = clf.predict(x_test)\n",
    "test_accuracy = accuracy_score(y_test, y_pred_test)\n",
    "print(\"Testing Accuracy:\", test_accuracy)\n",
    "\n",
    "y_test, y_pred_test"
   ]
  },
  {
   "cell_type": "code",
   "execution_count": 82,
   "id": "684ac948",
   "metadata": {},
   "outputs": [
    {
     "name": "stdout",
     "output_type": "stream",
     "text": [
      "Training Accuracy: 0.9180952380952381\n",
      "Testing Accuracy: 0.8444444444444444\n"
     ]
    },
    {
     "data": {
      "text/plain": [
       "(array(['GLUT', 'GLUT', 'GLUT', 'GLUT', 'GLUT', 'GLUT', 'GLUT', 'GLUT',\n",
       "        'GLUT', 'GLUT', 'GLUT', 'GLUT', 'GLUT', 'GLUT', 'GLUT', 'GLUT',\n",
       "        'GLUT', 'GLUT', 'GLUT', 'GLUT', 'SGLT', 'SGLT', 'SGLT', 'SGLT',\n",
       "        'SGLT', 'SWEET', 'SWEET', 'SWEET', 'SWEET', 'SWEET', 'SWEET',\n",
       "        'SWEET', 'SWEET', 'SWEET', 'SWEET', 'SWEET', 'SWEET', 'SWEET',\n",
       "        'SWEET', 'SWEET', 'SWEET', 'SWEET', 'SWEET', 'SWEET', 'SWEET'],\n",
       "       dtype='<U5'),\n",
       " array(['GLUT', 'GLUT', 'GLUT', 'GLUT', 'GLUT', 'GLUT', 'GLUT', 'GLUT',\n",
       "        'SWEET', 'GLUT', 'GLUT', 'GLUT', 'GLUT', 'GLUT', 'GLUT', 'GLUT',\n",
       "        'GLUT', 'SWEET', 'SWEET', 'GLUT', 'SGLT', 'SWEET', 'SGLT', 'SGLT',\n",
       "        'SWEET', 'SWEET', 'SWEET', 'SWEET', 'GLUT', 'SWEET', 'SWEET',\n",
       "        'SWEET', 'SWEET', 'SWEET', 'SWEET', 'SWEET', 'SGLT', 'SWEET',\n",
       "        'SWEET', 'SWEET', 'SWEET', 'SWEET', 'SWEET', 'SWEET', 'SWEET'],\n",
       "       dtype='<U5'))"
      ]
     },
     "execution_count": 82,
     "metadata": {},
     "output_type": "execute_result"
    }
   ],
   "source": [
    "from sklearn.neighbors import KNeighborsClassifier\n",
    "knn = KNeighborsClassifier(n_neighbors=4)\n",
    "knn.fit(x_train, y_train)\n",
    "\n",
    "y_pred_train = knn.predict(x_train)\n",
    "train_accuracy = accuracy_score(y_train, y_pred_train)\n",
    "print(\"Training Accuracy:\", train_accuracy)\n",
    "\n",
    "y_pred_test = knn.predict(x_test)\n",
    "test_accuracy = accuracy_score(y_test, y_pred_test)\n",
    "print(\"Testing Accuracy:\", test_accuracy)\n",
    "\n",
    "y_test, y_pred_test"
   ]
  },
  {
   "cell_type": "code",
   "execution_count": 85,
   "id": "4c0c0eec",
   "metadata": {},
   "outputs": [
    {
     "name": "stdout",
     "output_type": "stream",
     "text": [
      "Training Accuracy: 0.9980952380952381\n",
      "Testing Accuracy: 0.8444444444444444\n"
     ]
    },
    {
     "data": {
      "text/plain": [
       "(array(['GLUT', 'GLUT', 'GLUT', 'GLUT', 'GLUT', 'GLUT', 'GLUT', 'GLUT',\n",
       "        'GLUT', 'GLUT', 'GLUT', 'GLUT', 'GLUT', 'GLUT', 'GLUT', 'GLUT',\n",
       "        'GLUT', 'GLUT', 'GLUT', 'GLUT', 'SGLT', 'SGLT', 'SGLT', 'SGLT',\n",
       "        'SGLT', 'SWEET', 'SWEET', 'SWEET', 'SWEET', 'SWEET', 'SWEET',\n",
       "        'SWEET', 'SWEET', 'SWEET', 'SWEET', 'SWEET', 'SWEET', 'SWEET',\n",
       "        'SWEET', 'SWEET', 'SWEET', 'SWEET', 'SWEET', 'SWEET', 'SWEET'],\n",
       "       dtype='<U5'),\n",
       " array(['SWEET', 'GLUT', 'GLUT', 'GLUT', 'GLUT', 'GLUT', 'GLUT', 'GLUT',\n",
       "        'GLUT', 'GLUT', 'GLUT', 'GLUT', 'GLUT', 'GLUT', 'GLUT', 'SWEET',\n",
       "        'GLUT', 'SWEET', 'SWEET', 'GLUT', 'SGLT', 'SWEET', 'SGLT', 'SGLT',\n",
       "        'SWEET', 'SWEET', 'SWEET', 'SWEET', 'GLUT', 'SWEET', 'SWEET',\n",
       "        'SWEET', 'SWEET', 'SWEET', 'SWEET', 'SWEET', 'SWEET', 'SWEET',\n",
       "        'SWEET', 'SWEET', 'SWEET', 'SWEET', 'SWEET', 'SWEET', 'SWEET'],\n",
       "       dtype='<U5'))"
      ]
     },
     "execution_count": 85,
     "metadata": {},
     "output_type": "execute_result"
    }
   ],
   "source": [
    "import xgboost as xgb\n",
    "from sklearn.preprocessing import LabelEncoder\n",
    "\n",
    "encoder = LabelEncoder()\n",
    "y_train = encoder.fit_transform(y_train)\n",
    "y_test = encoder.fit_transform(y_test)\n",
    "model = xgb.XGBClassifier(objective='multi:softmax', num_class=len(y_train))\n",
    "model.fit(x_train, y_train)\n",
    "\n",
    "y_pred_train = model.predict(x_train)\n",
    "train_accuracy = accuracy_score(y_train, y_pred_train)\n",
    "print(\"Training Accuracy:\", train_accuracy)\n",
    "\n",
    "y_pred_test = model.predict(x_test)\n",
    "test_accuracy = accuracy_score(y_test, y_pred_test)\n",
    "print(\"Testing Accuracy:\", test_accuracy)\n",
    "\n",
    "y_test = encoder.inverse_transform(y_test)\n",
    "y_pred_test = encoder.inverse_transform(y_pred_test)\n",
    "y_test, y_pred_test"
   ]
  },
  {
   "cell_type": "code",
   "execution_count": null,
   "id": "d00adbd0",
   "metadata": {},
   "outputs": [],
   "source": []
  },
  {
   "cell_type": "code",
   "execution_count": null,
   "id": "8ad62e04",
   "metadata": {},
   "outputs": [],
   "source": []
  }
 ],
 "metadata": {
  "kernelspec": {
   "display_name": "Python 3",
   "language": "python",
   "name": "python3"
  },
  "language_info": {
   "codemirror_mode": {
    "name": "ipython",
    "version": 3
   },
   "file_extension": ".py",
   "mimetype": "text/x-python",
   "name": "python",
   "nbconvert_exporter": "python",
   "pygments_lexer": "ipython3",
   "version": "3.8.8"
  }
 },
 "nbformat": 4,
 "nbformat_minor": 5
}
