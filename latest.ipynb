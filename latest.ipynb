{
 "cells": [
  {
   "cell_type": "code",
   "execution_count": 1,
   "id": "b91e6a34",
   "metadata": {},
   "outputs": [],
   "source": [
    "import numpy as np\n",
    "from sklearn.ensemble import RandomForestClassifier\n",
    "from sklearn.model_selection import train_test_split\n",
    "from sklearn.metrics import accuracy_score\n",
    "from sklearn.preprocessing import StandardScaler"
   ]
  },
  {
   "cell_type": "code",
   "execution_count": 2,
   "id": "2c130d3e",
   "metadata": {},
   "outputs": [
    {
     "data": {
      "text/plain": [
       "(396, 24, 675)"
      ]
     },
     "execution_count": 2,
     "metadata": {},
     "output_type": "execute_result"
    }
   ],
   "source": [
    "def loadseq(file):\n",
    "    lines = []\n",
    "    with open(file, 'r') as file:\n",
    "        for line in file:\n",
    "            lines.append(line.strip())\n",
    "    return lines\n",
    "\n",
    "\n",
    "glutfile = 'glutoutputnoheader.fasta'\n",
    "sgltfile = 'newsgltoutputnoheader.fasta'\n",
    "sweetfile = 'newsweetoutputnoheader.fasta'\n",
    "# hxtfile = 'hxtoutputnoheader.fasta'\n",
    "# chbfile = 'chboutputnoheader.fasta'\n",
    "\n",
    "\n",
    "glut = loadseq(glutfile)\n",
    "sglt = loadseq(sgltfile)\n",
    "sweet = loadseq(sweetfile)\n",
    "# hxt = loadseq(hxtfile)\n",
    "# chb = loadseq(chbfile)\n",
    "\n",
    "# glut = glut[:25]\n",
    "# hxt = hxt[:25]\n",
    "# chb = chb[:5]\n",
    "\n",
    "glutlen = len(glut)\n",
    "sgltlen = len(sglt)\n",
    "sweetlen = len(sweet)\n",
    "# hxtlen = len(hxt)\n",
    "# chblen = len(chb)\n",
    "\n",
    "len(glut),len(sglt),len(sweet)"
   ]
  },
  {
   "cell_type": "code",
   "execution_count": 3,
   "id": "210884f4",
   "metadata": {},
   "outputs": [],
   "source": [
    "amino_acids = \"ACDEFGHIKLMNPQRSTVWY\"  # List of amino acids\n",
    "n_amino_acids = len(amino_acids)  # Number of amino acids"
   ]
  },
  {
   "cell_type": "code",
   "execution_count": 4,
   "id": "f17b6907",
   "metadata": {},
   "outputs": [],
   "source": [
    "def calculate_aac_features(sequences, amino_acids):\n",
    "    n_amino_acids = len(amino_acids)\n",
    "    features = []\n",
    "    for fasta_sequence in sequences:\n",
    "        aac = np.zeros(n_amino_acids)\n",
    "        for aa in fasta_sequence:\n",
    "            if aa in amino_acids:\n",
    "                index = amino_acids.index(aa)\n",
    "                aac[index] += 1\n",
    "\n",
    "        # Normalize the amino acid composition to obtain relative frequencies\n",
    "        aac /= len(fasta_sequence)\n",
    "\n",
    "        # Append the AAC feature vector to the feature list\n",
    "        features.append(aac)\n",
    "\n",
    "    return np.array(features)"
   ]
  },
  {
   "cell_type": "code",
   "execution_count": 5,
   "id": "65d5039e",
   "metadata": {},
   "outputs": [],
   "source": [
    "glut_ = calculate_aac_features(glut,amino_acids)\n",
    "sglt_ = calculate_aac_features(sglt,amino_acids)\n",
    "sweet_ = calculate_aac_features(sweet,amino_acids)\n",
    "# hxt_ = calculate_aac_features(hxt,amino_acids)\n",
    "# chb_ = calculate_aac_features(chb,amino_acids)"
   ]
  },
  {
   "cell_type": "code",
   "execution_count": 12,
   "id": "d3e8d299",
   "metadata": {},
   "outputs": [
    {
     "data": {
      "text/plain": [
       "(995, 20)"
      ]
     },
     "execution_count": 12,
     "metadata": {},
     "output_type": "execute_result"
    }
   ],
   "source": [
    "glut_test_count = 47\n",
    "sglt_test_count = 6\n",
    "sweet_test_count = 47\n",
    "\n",
    "x_train = np.concatenate((glut_[:glutlen-glut_test_count], sglt_[:sgltlen-sglt_test_count], sweet_[:sweetlen-sweet_test_count]), axis=0)\n",
    "x_test = np.concatenate((glut_[glutlen-glut_test_count:], sglt_[sgltlen-sglt_test_count:], sweet_[sweetlen-sweet_test_count:]), axis=0)\n",
    "\n",
    "# x_train = np.concatenate((glut_[:glutlen-1], sglt_[:sgltlen-1], hxt_[:hxtlen-1], chb_[:chblen-1]), axis=0)\n",
    "# x_test = np.concatenate((glut_[glutlen-1:], sglt_[sgltlen-1:], hxt_[hxtlen-1:], chb_[chblen-1:]), axis=0)\n",
    "\n",
    "# Create the corresponding labels\n",
    "\n",
    "y_train = np.array([\"GLUT\"] * (glutlen-glut_test_count) + [\"SGLT\"] * (sgltlen-sglt_test_count) + [\"SWEET\"] * (sweetlen-sweet_test_count))\n",
    "y_test = np.array([\"GLUT\"] * glut_test_count + [\"SGLT\"] * sglt_test_count + [\"SWEET\"] * sweet_test_count)\n",
    "\n",
    "# y_train = np.array([\"GLUT\"] * (glutlen-1) + [\"SGLT\"] * (sgltlen-1) + [\"HXT\"] * (hxtlen-1) + [\"CHB\"] * (chblen-1))\n",
    "# y_test = np.array([\"GLUT\"] * 1 + [\"SGLT\"] * 1 + [\"HXT\"] * 1 + [\"CHB\"] * 1)\n",
    "\n",
    "x_train.shape"
   ]
  },
  {
   "cell_type": "code",
   "execution_count": 13,
   "id": "531b3940",
   "metadata": {},
   "outputs": [
    {
     "name": "stdout",
     "output_type": "stream",
     "text": [
      "Training Accuracy: 0.9979899497487437\n",
      "Testing Accuracy: 0.79\n"
     ]
    },
    {
     "data": {
      "text/plain": [
       "(array(['GLUT', 'GLUT', 'GLUT', 'GLUT', 'GLUT', 'GLUT', 'GLUT', 'GLUT',\n",
       "        'GLUT', 'GLUT', 'GLUT', 'GLUT', 'GLUT', 'GLUT', 'GLUT', 'GLUT',\n",
       "        'GLUT', 'GLUT', 'GLUT', 'GLUT', 'GLUT', 'GLUT', 'GLUT', 'GLUT',\n",
       "        'GLUT', 'GLUT', 'GLUT', 'GLUT', 'GLUT', 'GLUT', 'GLUT', 'GLUT',\n",
       "        'GLUT', 'GLUT', 'GLUT', 'GLUT', 'GLUT', 'GLUT', 'GLUT', 'GLUT',\n",
       "        'GLUT', 'GLUT', 'GLUT', 'GLUT', 'GLUT', 'GLUT', 'GLUT', 'SGLT',\n",
       "        'SGLT', 'SGLT', 'SGLT', 'SGLT', 'SGLT', 'SWEET', 'SWEET', 'SWEET',\n",
       "        'SWEET', 'SWEET', 'SWEET', 'SWEET', 'SWEET', 'SWEET', 'SWEET',\n",
       "        'SWEET', 'SWEET', 'SWEET', 'SWEET', 'SWEET', 'SWEET', 'SWEET',\n",
       "        'SWEET', 'SWEET', 'SWEET', 'SWEET', 'SWEET', 'SWEET', 'SWEET',\n",
       "        'SWEET', 'SWEET', 'SWEET', 'SWEET', 'SWEET', 'SWEET', 'SWEET',\n",
       "        'SWEET', 'SWEET', 'SWEET', 'SWEET', 'SWEET', 'SWEET', 'SWEET',\n",
       "        'SWEET', 'SWEET', 'SWEET', 'SWEET', 'SWEET', 'SWEET', 'SWEET',\n",
       "        'SWEET', 'SWEET'], dtype='<U5'),\n",
       " array(['SWEET', 'SWEET', 'GLUT', 'GLUT', 'GLUT', 'GLUT', 'GLUT', 'GLUT',\n",
       "        'GLUT', 'GLUT', 'GLUT', 'GLUT', 'GLUT', 'SWEET', 'GLUT', 'GLUT',\n",
       "        'GLUT', 'GLUT', 'GLUT', 'SWEET', 'SWEET', 'SWEET', 'SWEET', 'GLUT',\n",
       "        'SWEET', 'GLUT', 'GLUT', 'SWEET', 'GLUT', 'GLUT', 'GLUT', 'GLUT',\n",
       "        'GLUT', 'GLUT', 'SWEET', 'GLUT', 'GLUT', 'GLUT', 'GLUT', 'GLUT',\n",
       "        'GLUT', 'GLUT', 'SWEET', 'GLUT', 'SWEET', 'SWEET', 'GLUT', 'SWEET',\n",
       "        'SGLT', 'SWEET', 'GLUT', 'GLUT', 'SWEET', 'SWEET', 'SWEET',\n",
       "        'SWEET', 'SWEET', 'SWEET', 'SWEET', 'GLUT', 'SWEET', 'SWEET',\n",
       "        'SWEET', 'SWEET', 'SWEET', 'SWEET', 'SWEET', 'SWEET', 'SWEET',\n",
       "        'SWEET', 'SWEET', 'SWEET', 'SWEET', 'SWEET', 'SWEET', 'SWEET',\n",
       "        'SWEET', 'SWEET', 'SWEET', 'SWEET', 'SWEET', 'SWEET', 'SWEET',\n",
       "        'GLUT', 'SWEET', 'SWEET', 'SWEET', 'SWEET', 'SWEET', 'SWEET',\n",
       "        'SWEET', 'GLUT', 'SWEET', 'SWEET', 'SWEET', 'SWEET', 'SWEET',\n",
       "        'SWEET', 'SWEET', 'SWEET'], dtype='<U5'))"
      ]
     },
     "execution_count": 13,
     "metadata": {},
     "output_type": "execute_result"
    }
   ],
   "source": [
    "classifier = RandomForestClassifier()\n",
    "classifier.fit(x_train, y_train)\n",
    "\n",
    "y_pred_train = classifier.predict(x_train)\n",
    "train_accuracy = accuracy_score(y_train, y_pred_train)\n",
    "print(\"Training Accuracy:\", train_accuracy)\n",
    "\n",
    "y_pred_test = classifier.predict(x_test)\n",
    "test_accuracy = accuracy_score(y_test, y_pred_test)\n",
    "print(\"Testing Accuracy:\", test_accuracy)\n",
    "\n",
    "y_test, y_pred_test"
   ]
  },
  {
   "cell_type": "code",
   "execution_count": 14,
   "id": "e19d4a70",
   "metadata": {},
   "outputs": [
    {
     "name": "stdout",
     "output_type": "stream",
     "text": [
      "Training Accuracy: 0.8904522613065327\n",
      "Testing Accuracy: 0.77\n"
     ]
    },
    {
     "data": {
      "text/plain": [
       "(array(['GLUT', 'GLUT', 'GLUT', 'GLUT', 'GLUT', 'GLUT', 'GLUT', 'GLUT',\n",
       "        'GLUT', 'GLUT', 'GLUT', 'GLUT', 'GLUT', 'GLUT', 'GLUT', 'GLUT',\n",
       "        'GLUT', 'GLUT', 'GLUT', 'GLUT', 'GLUT', 'GLUT', 'GLUT', 'GLUT',\n",
       "        'GLUT', 'GLUT', 'GLUT', 'GLUT', 'GLUT', 'GLUT', 'GLUT', 'GLUT',\n",
       "        'GLUT', 'GLUT', 'GLUT', 'GLUT', 'GLUT', 'GLUT', 'GLUT', 'GLUT',\n",
       "        'GLUT', 'GLUT', 'GLUT', 'GLUT', 'GLUT', 'GLUT', 'GLUT', 'SGLT',\n",
       "        'SGLT', 'SGLT', 'SGLT', 'SGLT', 'SGLT', 'SWEET', 'SWEET', 'SWEET',\n",
       "        'SWEET', 'SWEET', 'SWEET', 'SWEET', 'SWEET', 'SWEET', 'SWEET',\n",
       "        'SWEET', 'SWEET', 'SWEET', 'SWEET', 'SWEET', 'SWEET', 'SWEET',\n",
       "        'SWEET', 'SWEET', 'SWEET', 'SWEET', 'SWEET', 'SWEET', 'SWEET',\n",
       "        'SWEET', 'SWEET', 'SWEET', 'SWEET', 'SWEET', 'SWEET', 'SWEET',\n",
       "        'SWEET', 'SWEET', 'SWEET', 'SWEET', 'SWEET', 'SWEET', 'SWEET',\n",
       "        'SWEET', 'SWEET', 'SWEET', 'SWEET', 'SWEET', 'SWEET', 'SWEET',\n",
       "        'SWEET', 'SWEET'], dtype='<U5'),\n",
       " array(['SWEET', 'SWEET', 'GLUT', 'GLUT', 'SWEET', 'GLUT', 'GLUT', 'GLUT',\n",
       "        'GLUT', 'SWEET', 'GLUT', 'GLUT', 'GLUT', 'SWEET', 'GLUT', 'GLUT',\n",
       "        'GLUT', 'GLUT', 'GLUT', 'SWEET', 'SWEET', 'SWEET', 'SWEET', 'GLUT',\n",
       "        'SWEET', 'GLUT', 'GLUT', 'SWEET', 'GLUT', 'GLUT', 'GLUT', 'GLUT',\n",
       "        'GLUT', 'GLUT', 'SWEET', 'GLUT', 'GLUT', 'GLUT', 'GLUT', 'GLUT',\n",
       "        'GLUT', 'GLUT', 'SWEET', 'GLUT', 'SWEET', 'SWEET', 'GLUT', 'GLUT',\n",
       "        'GLUT', 'SWEET', 'GLUT', 'GLUT', 'SWEET', 'SWEET', 'SWEET',\n",
       "        'SWEET', 'SWEET', 'SWEET', 'SWEET', 'GLUT', 'SWEET', 'SWEET',\n",
       "        'SWEET', 'SWEET', 'SWEET', 'SWEET', 'SWEET', 'SWEET', 'SWEET',\n",
       "        'SWEET', 'SWEET', 'SWEET', 'SWEET', 'SWEET', 'SWEET', 'SWEET',\n",
       "        'SWEET', 'SWEET', 'SWEET', 'SWEET', 'SWEET', 'SWEET', 'SWEET',\n",
       "        'GLUT', 'SWEET', 'SWEET', 'SWEET', 'SWEET', 'SWEET', 'SWEET',\n",
       "        'SWEET', 'SWEET', 'SWEET', 'SWEET', 'SWEET', 'SWEET', 'SWEET',\n",
       "        'SWEET', 'SWEET', 'SWEET'], dtype='<U5'))"
      ]
     },
     "execution_count": 14,
     "metadata": {},
     "output_type": "execute_result"
    }
   ],
   "source": [
    "from sklearn import svm\n",
    "\n",
    "clf = svm.SVC()\n",
    "clf.fit(x_train, y_train)\n",
    "\n",
    "y_pred_train = clf.predict(x_train)\n",
    "train_accuracy = accuracy_score(y_train, y_pred_train)\n",
    "print(\"Training Accuracy:\", train_accuracy)\n",
    "\n",
    "y_pred_test = clf.predict(x_test)\n",
    "test_accuracy = accuracy_score(y_test, y_pred_test)\n",
    "print(\"Testing Accuracy:\", test_accuracy)\n",
    "\n",
    "y_test, y_pred_test"
   ]
  },
  {
   "cell_type": "code",
   "execution_count": 15,
   "id": "684ac948",
   "metadata": {},
   "outputs": [
    {
     "name": "stdout",
     "output_type": "stream",
     "text": [
      "Training Accuracy: 0.9125628140703518\n",
      "Testing Accuracy: 0.84\n"
     ]
    },
    {
     "data": {
      "text/plain": [
       "(array(['GLUT', 'GLUT', 'GLUT', 'GLUT', 'GLUT', 'GLUT', 'GLUT', 'GLUT',\n",
       "        'GLUT', 'GLUT', 'GLUT', 'GLUT', 'GLUT', 'GLUT', 'GLUT', 'GLUT',\n",
       "        'GLUT', 'GLUT', 'GLUT', 'GLUT', 'GLUT', 'GLUT', 'GLUT', 'GLUT',\n",
       "        'GLUT', 'GLUT', 'GLUT', 'GLUT', 'GLUT', 'GLUT', 'GLUT', 'GLUT',\n",
       "        'GLUT', 'GLUT', 'GLUT', 'GLUT', 'GLUT', 'GLUT', 'GLUT', 'GLUT',\n",
       "        'GLUT', 'GLUT', 'GLUT', 'GLUT', 'GLUT', 'GLUT', 'GLUT', 'SGLT',\n",
       "        'SGLT', 'SGLT', 'SGLT', 'SGLT', 'SGLT', 'SWEET', 'SWEET', 'SWEET',\n",
       "        'SWEET', 'SWEET', 'SWEET', 'SWEET', 'SWEET', 'SWEET', 'SWEET',\n",
       "        'SWEET', 'SWEET', 'SWEET', 'SWEET', 'SWEET', 'SWEET', 'SWEET',\n",
       "        'SWEET', 'SWEET', 'SWEET', 'SWEET', 'SWEET', 'SWEET', 'SWEET',\n",
       "        'SWEET', 'SWEET', 'SWEET', 'SWEET', 'SWEET', 'SWEET', 'SWEET',\n",
       "        'SWEET', 'SWEET', 'SWEET', 'SWEET', 'SWEET', 'SWEET', 'SWEET',\n",
       "        'SWEET', 'SWEET', 'SWEET', 'SWEET', 'SWEET', 'SWEET', 'SWEET',\n",
       "        'SWEET', 'SWEET'], dtype='<U5'),\n",
       " array(['GLUT', 'GLUT', 'GLUT', 'GLUT', 'GLUT', 'GLUT', 'GLUT', 'GLUT',\n",
       "        'GLUT', 'GLUT', 'GLUT', 'GLUT', 'GLUT', 'SWEET', 'GLUT', 'GLUT',\n",
       "        'GLUT', 'GLUT', 'GLUT', 'SWEET', 'SWEET', 'SWEET', 'GLUT', 'GLUT',\n",
       "        'GLUT', 'GLUT', 'GLUT', 'GLUT', 'GLUT', 'GLUT', 'GLUT', 'GLUT',\n",
       "        'GLUT', 'GLUT', 'GLUT', 'SWEET', 'GLUT', 'GLUT', 'GLUT', 'GLUT',\n",
       "        'GLUT', 'GLUT', 'SWEET', 'GLUT', 'SWEET', 'SWEET', 'GLUT', 'GLUT',\n",
       "        'SGLT', 'SWEET', 'SGLT', 'SGLT', 'SWEET', 'SWEET', 'SWEET',\n",
       "        'SWEET', 'SWEET', 'SWEET', 'SWEET', 'SWEET', 'SWEET', 'SWEET',\n",
       "        'SWEET', 'SWEET', 'SWEET', 'SWEET', 'SWEET', 'SWEET', 'SWEET',\n",
       "        'SWEET', 'SWEET', 'SWEET', 'GLUT', 'GLUT', 'SWEET', 'GLUT',\n",
       "        'SWEET', 'SWEET', 'SWEET', 'SWEET', 'SWEET', 'SWEET', 'SWEET',\n",
       "        'GLUT', 'SWEET', 'SWEET', 'SWEET', 'SWEET', 'SWEET', 'SWEET',\n",
       "        'SWEET', 'SGLT', 'SWEET', 'SWEET', 'SWEET', 'SWEET', 'SWEET',\n",
       "        'SWEET', 'SWEET', 'SWEET'], dtype='<U5'))"
      ]
     },
     "execution_count": 15,
     "metadata": {},
     "output_type": "execute_result"
    }
   ],
   "source": [
    "from sklearn.neighbors import KNeighborsClassifier\n",
    "knn = KNeighborsClassifier(n_neighbors=4)\n",
    "knn.fit(x_train, y_train)\n",
    "\n",
    "y_pred_train = knn.predict(x_train)\n",
    "train_accuracy = accuracy_score(y_train, y_pred_train)\n",
    "print(\"Training Accuracy:\", train_accuracy)\n",
    "\n",
    "y_pred_test = knn.predict(x_test)\n",
    "test_accuracy = accuracy_score(y_test, y_pred_test)\n",
    "print(\"Testing Accuracy:\", test_accuracy)\n",
    "\n",
    "y_test, y_pred_test"
   ]
  },
  {
   "cell_type": "code",
   "execution_count": 28,
   "id": "4c0c0eec",
   "metadata": {},
   "outputs": [
    {
     "name": "stdout",
     "output_type": "stream",
     "text": [
      "Training Accuracy: 0.9979899497487437\n",
      "Testing Accuracy: 0.86\n"
     ]
    },
    {
     "data": {
      "text/plain": [
       "(array([0, 0, 0, 0, 0, 0, 0, 0, 0, 0, 0, 0, 0, 0, 0, 0, 0, 0, 0, 0, 0, 0,\n",
       "        0, 0, 0, 0, 0, 0, 0, 0, 0, 0, 0, 0, 0, 0, 0, 0, 0, 0, 0, 0, 0, 0,\n",
       "        0, 0, 0, 1, 1, 1, 1, 1, 1, 2, 2, 2, 2, 2, 2, 2, 2, 2, 2, 2, 2, 2,\n",
       "        2, 2, 2, 2, 2, 2, 2, 2, 2, 2, 2, 2, 2, 2, 2, 2, 2, 2, 2, 2, 2, 2,\n",
       "        2, 2, 2, 2, 2, 2, 2, 2, 2, 2, 2, 2], dtype=int64),\n",
       " array([2, 0, 0, 0, 0, 0, 0, 0, 0, 0, 0, 0, 0, 2, 0, 0, 0, 0, 0, 2, 2, 2,\n",
       "        0, 0, 2, 0, 0, 0, 0, 0, 0, 0, 0, 0, 0, 0, 0, 0, 0, 0, 0, 0, 2, 0,\n",
       "        2, 2, 0, 2, 1, 2, 1, 1, 2, 2, 2, 2, 2, 2, 2, 0, 2, 2, 2, 2, 2, 2,\n",
       "        2, 2, 2, 2, 2, 2, 2, 2, 2, 2, 2, 2, 2, 2, 2, 2, 2, 0, 2, 2, 2, 2,\n",
       "        2, 2, 2, 2, 2, 2, 2, 2, 2, 2, 2, 2], dtype=int64))"
      ]
     },
     "execution_count": 28,
     "metadata": {},
     "output_type": "execute_result"
    }
   ],
   "source": [
    "import xgboost as xgb\n",
    "from sklearn.preprocessing import LabelEncoder\n",
    "\n",
    "encoder = LabelEncoder()\n",
    "y_train = encoder.fit_transform(y_train)\n",
    "y_test = encoder.fit_transform(y_test)\n",
    "model = xgb.XGBClassifier(objective='multi:softmax', num_class=len(y_train))\n",
    "model.fit(x_train, y_train)\n",
    "\n",
    "y_pred_train = model.predict(x_train)\n",
    "train_accuracy = accuracy_score(y_train, y_pred_train)\n",
    "print(\"Training Accuracy:\", train_accuracy)\n",
    "\n",
    "y_pred_test = model.predict(x_test)\n",
    "test_accuracy = accuracy_score(y_test, y_pred_test)\n",
    "print(\"Testing Accuracy:\", test_accuracy)\n",
    "\n",
    "y_test = encoder.inverse_transform(y_test)\n",
    "y_pred_test = encoder.inverse_transform(y_pred_test)\n",
    "y_test, y_pred_test\n"
   ]
  },
  {
   "cell_type": "code",
   "execution_count": 19,
   "id": "d00adbd0",
   "metadata": {},
   "outputs": [
    {
     "name": "stdout",
     "output_type": "stream",
     "text": [
      "[0 0 0 0 0 0 0 0 0 0 0 0 0 0 0 0 0 0 0 0 0 0 0 0 0 0 0 0 0 0 0 0 0 0 0 0 0\n",
      " 0 0 0 0 0 0 0 0 0 0 1 1 1 1 1 1 2 2 2 2 2 2 2 2 2 2 2 2 2 2 2 2 2 2 2 2 2\n",
      " 2 2 2 2 2 2 2 2 2 2 2 2 2 2 2 2 2 2 2 2 2 2 2 2 2 2]\n"
     ]
    }
   ],
   "source": [
    "from sklearn.preprocessing import LabelEncoder\n",
    "le = LabelEncoder()\n",
    "y_test_enc = le.fit_transform(y_test)\n",
    "y_test_enc = le.transform(y_test)\n",
    "print(y_test_enc)"
   ]
  },
  {
   "cell_type": "code",
   "execution_count": null,
   "id": "00fd68ce-4238-4ddc-b13c-0b6f2e428836",
   "metadata": {},
   "outputs": [],
   "source": [
    "from sklearn.metrics  import roc_curve, auc\n",
    "from sklearn.multiclass import OneVsRestClassifier\n",
    "tpr,fpr, threshold = roc_curve(y_test,y_pred_test)\n",
    "\n",
    "roc_auc = auc(fpr, tpr)\n",
    "\n",
    "# Plotting the ROC curve\n",
    "plt.figure()\n",
    "plt.plot(fpr, tpr, color='darkorange', lw=2, label='Combined ROC curve (AUC = %0.2f)' % roc_auc)\n",
    "plt.plot([0, 1], [0, 1], color='navy', lw=2, linestyle='--')\n",
    "plt.xlim([0.0, 1.0])\n",
    "plt.ylim([0.0, 1.05])\n",
    "plt.xlabel('False Positive Rate')\n",
    "plt.ylabel('True Positive Rate')\n",
    "plt.title('Receiver Operating Characteristic (ROC)')\n",
    "plt.legend(loc=\"lower right\")\n",
    "plt.show()"
   ]
  },
  {
   "cell_type": "code",
   "execution_count": 24,
   "id": "8ad62e04",
   "metadata": {},
   "outputs": [
    {
     "data": {
      "image/png": "[encoded data removed]",
      "text/plain": [
       "<Figure size 640x480 with 1 Axes>"
      ]
     },
     "metadata": {},
     "output_type": "display_data"
    }
   ],
   "source": [
    "import xgboost as xgb\n",
    "from sklearn.preprocessing import LabelEncoder\n",
    "from sklearn.metrics import roc_curve, auc\n",
    "from sklearn.preprocessing import label_binarize\n",
    "from sklearn.metrics import roc_auc_score\n",
    "import matplotlib.pyplot as plt\n",
    "from itertools import cycle\n",
    "\n",
    "encoder = LabelEncoder()\n",
    "y_train = encoder.fit_transform(y_train)\n",
    "y_test = encoder.fit_transform(y_test)\n",
    "model = xgb.XGBClassifier(objective='multi:softmax', num_class=len(set(y_train))) # number of classes should be number of unique labels\n",
    "model.fit(x_train, y_train)\n",
    "\n",
    "y_score = model.predict_proba(x_test)\n",
    "\n",
    "# Binarize the output\n",
    "y_test_bin = label_binarize(y_test, classes=list(set(y_test)))\n",
    "n_classes = y_test_bin.shape[1]\n",
    "\n",
    "# Compute ROC curve and ROC area for each class\n",
    "fpr = dict()\n",
    "tpr = dict()\n",
    "roc_auc = dict()\n",
    "for i in range(n_classes):\n",
    "    fpr[i], tpr[i], _ = roc_curve(y_test_bin[:, i], y_score[:, i])\n",
    "    roc_auc[i] = auc(fpr[i], tpr[i])\n",
    "\n",
    "# Plot all ROC curves\n",
    "plt.figure()\n",
    "colors = cycle(['aqua', 'darkorange', 'cornflowerblue'])\n",
    "for i, color in zip(range(n_classes), colors):\n",
    "    plt.plot(fpr[i], tpr[i], color=color,\n",
    "             label='ROC curve of class {0} (area = {1:0.2f})'\n",
    "             ''.format(i, roc_auc[i]))\n",
    "\n",
    "plt.plot([0, 1], [0, 1], 'k--')\n",
    "plt.xlim([0.0, 1.0])\n",
    "plt.ylim([0.0, 1.05])\n",
    "plt.xlabel('False Positive Rate')\n",
    "plt.ylabel('True Positive Rate')\n",
    "plt.title('Some extension of Receiver operating characteristic to multi-class')\n",
    "plt.legend(loc=\"lower right\")\n",
    "plt.show()\n"
   ]
  },
  {
   "cell_type": "code",
   "execution_count": null,
   "id": "7a66b70d-ee66-4095-a962-3a95ea8fae9d",
   "metadata": {},
   "outputs": [],
   "source": []
  }
 ],
 "metadata": {
  "kernelspec": {
   "display_name": "Python 3 (ipykernel)",
   "language": "python",
   "name": "python3"
  },
  "language_info": {
   "codemirror_mode": {
    "name": "ipython",
    "version": 3
   },
   "file_extension": ".py",
   "mimetype": "text/x-python",
   "name": "python",
   "nbconvert_exporter": "python",
   "pygments_lexer": "ipython3",
   "version": "3.8.15"
  }
 },
 "nbformat": 4,
 "nbformat_minor": 5
}
