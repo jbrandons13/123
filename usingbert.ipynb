{
  "nbformat": 4,
  "nbformat_minor": 0,
  "metadata": {
    "colab": {
      "provenance": []
    },
    "kernelspec": {
      "name": "python3",
      "display_name": "Python 3"
    },
    "language_info": {
      "name": "python"
    }
  },
  "cells": [
    {
      "cell_type": "code",
      "source": [
        "from transformers import BertTokenizer, TFBertForSequenceClassification, BertConfig\n",
        "import tensorflow as tf\n",
        "import numpy as np"
      ],
      "metadata": {
        "id": "dRYhT4iaQnsn"
      },
      "execution_count": 63,
      "outputs": []
    },
    {
      "cell_type": "code",
      "source": [
        "config = BertConfig.from_json_file('./bert_config.json')\n"
      ],
      "metadata": {
        "id": "eLvgedvpQ0KC"
      },
      "execution_count": 64,
      "outputs": []
    },
    {
      "cell_type": "code",
      "source": [
        "num_labels = 4\n"
      ],
      "metadata": {
        "id": "jtEWC4IFRDz_"
      },
      "execution_count": 65,
      "outputs": []
    },
    {
      "cell_type": "code",
      "source": [
        "model = TFBertForSequenceClassification(config)"
      ],
      "metadata": {
        "id": "cEvLK7XgSs18"
      },
      "execution_count": 66,
      "outputs": []
    },
    {
      "cell_type": "code",
      "source": [
        "model.load_weights('./bert_model.ckpt')"
      ],
      "metadata": {
        "colab": {
          "base_uri": "https://localhost:8080/"
        },
        "id": "9cdUkrAUTj9S",
        "outputId": "376ca599-941e-4fd4-8492-524949fb6bbf"
      },
      "execution_count": 67,
      "outputs": [
        {
          "output_type": "execute_result",
          "data": {
            "text/plain": [
              "<tensorflow.python.checkpoint.checkpoint.NameBasedSaverStatus at 0x7f6e2e0d7f10>"
            ]
          },
          "metadata": {},
          "execution_count": 67
        }
      ]
    },
    {
      "cell_type": "code",
      "source": [
        "def loadseq(file):\n",
        "    lines = []\n",
        "    with open(file, 'r') as file:\n",
        "        for line in file:\n",
        "            lines.append(line.strip())\n",
        "    return lines\n",
        "\n",
        "\n",
        "glutfile = 'glutoutputnoheader.fasta'\n",
        "sgltfile = 'sgltoutputnoheader.fasta'\n",
        "hxtfile = 'hxtoutputnoheader.fasta'\n",
        "chbfile = 'chboutputnoheader.fasta'\n",
        "\n",
        "\n",
        "glut = loadseq(glutfile)\n",
        "sglt = loadseq(sgltfile)\n",
        "hxt = loadseq(hxtfile)\n",
        "chb = loadseq(chbfile)\n",
        "\n",
        "glut = glut[:25]\n",
        "hxt = hxt[:25]\n",
        "# chb = chb[:5]\n",
        "\n",
        "glutlen = len(glut)\n",
        "sgltlen = len(sglt)\n",
        "hxtlen = len(hxt)\n",
        "chblen = len(chb)\n",
        "\n",
        "len(hxt),len(glut),len(sglt),len(chb)"
      ],
      "metadata": {
        "colab": {
          "base_uri": "https://localhost:8080/"
        },
        "id": "Sznlq3Z2T3Y0",
        "outputId": "0fddca88-24f0-4bd5-94d6-a48e57caebc5"
      },
      "execution_count": 68,
      "outputs": [
        {
          "output_type": "execute_result",
          "data": {
            "text/plain": [
              "(25, 25, 5, 25)"
            ]
          },
          "metadata": {},
          "execution_count": 68
        }
      ]
    },
    {
      "cell_type": "code",
      "source": [
        "from sklearn.preprocessing import LabelEncoder\n",
        "\n",
        "le = LabelEncoder()\n",
        "y_train = np.array([\"GLUT\"] * (glutlen-1) + [\"SGLT\"] * (sgltlen-1) + [\"HXT\"] * (hxtlen-1) + [\"CHB\"] * (chblen-1))\n",
        "y_train = le.fit_transform(y_train)\n"
      ],
      "metadata": {
        "id": "Xr5cm3UFUlfK"
      },
      "execution_count": 70,
      "outputs": []
    },
    {
      "cell_type": "code",
      "source": [
        "def tokenize(sequence):\n",
        "    amino_acids = 'ACDEFGHIKLMNPQRSTVWY'\n",
        "    return [amino_acids.index(aa) + 1 for aa in sequence]"
      ],
      "metadata": {
        "id": "jZ7hmXK-U360"
      },
      "execution_count": 72,
      "outputs": []
    },
    {
      "cell_type": "code",
      "source": [
        "glut = [tokenize(seq) for seq in glut]\n",
        "sglt = [tokenize(seq) for seq in sglt]\n",
        "hxt = [tokenize(seq) for seq in hxt]\n",
        "# chb = [tokenize(seq) for seq in chb]"
      ],
      "metadata": {
        "id": "EDGIPod9U9ef"
      },
      "execution_count": 73,
      "outputs": []
    },
    {
      "cell_type": "code",
      "source": [
        "from tensorflow.keras.preprocessing.sequence import pad_sequences\n",
        "\n",
        "# Pad your sequences so that they all have the same length\n",
        "max_seq_length = max([len(seq) for seq in glut])\n",
        "glut = pad_sequences(glut, maxlen=512, padding='post')"
      ],
      "metadata": {
        "id": "RJg_Olt3VWEA"
      },
      "execution_count": 74,
      "outputs": []
    },
    {
      "cell_type": "code",
      "source": [
        "predictions = model.predict(glut)\n"
      ],
      "metadata": {
        "colab": {
          "base_uri": "https://localhost:8080/"
        },
        "id": "eWiGMtlZWTJ1",
        "outputId": "0f61de7f-bb45-4e82-fa8d-dc592f3c458c"
      },
      "execution_count": 75,
      "outputs": [
        {
          "output_type": "stream",
          "name": "stdout",
          "text": [
            "1/1 [==============================] - 74s 74s/step\n"
          ]
        }
      ]
    },
    {
      "cell_type": "code",
      "source": [
        "predictions"
      ],
      "metadata": {
        "colab": {
          "base_uri": "https://localhost:8080/"
        },
        "id": "RRyptlg7Wjpm",
        "outputId": "652b9908-3393-4c60-8a1c-d0d0a507b130"
      },
      "execution_count": 62,
      "outputs": [
        {
          "output_type": "execute_result",
          "data": {
            "text/plain": [
              "TFSequenceClassifierOutput(loss=None, logits=array([[ 0.22897117,  0.30080938],\n",
              "       [-0.02828767,  0.07159388],\n",
              "       [ 0.23468386,  0.31309715],\n",
              "       [-0.05808097,  0.30652574],\n",
              "       [ 0.15342537,  0.13754892],\n",
              "       [ 0.15714398,  0.13255146],\n",
              "       [ 0.23915483,  0.13370357],\n",
              "       [ 0.2402789 ,  0.13272391],\n",
              "       [ 0.23940164,  0.3114933 ],\n",
              "       [ 0.17180747,  0.12561262],\n",
              "       [ 0.00310235,  0.10303997],\n",
              "       [ 0.01030788,  0.09457536],\n",
              "       [ 0.13286361,  0.14958528],\n",
              "       [ 0.09605211, -0.03577516],\n",
              "       [ 0.11844507,  0.14787245],\n",
              "       [ 0.1402946 ,  0.14551908],\n",
              "       [ 0.16852394,  0.12279499],\n",
              "       [ 0.00052313,  0.1030992 ],\n",
              "       [ 0.09482822, -0.01243686],\n",
              "       [ 0.22185032,  0.02715312],\n",
              "       [ 0.32444915,  0.30846763],\n",
              "       [-0.00843545,  0.2759081 ],\n",
              "       [-0.03888776,  0.08545098],\n",
              "       [ 0.01820719,  0.07432207],\n",
              "       [ 0.09453773, -0.03570399]], dtype=float32), hidden_states=None, attentions=None)"
            ]
          },
          "metadata": {},
          "execution_count": 62
        }
      ]
    },
    {
      "cell_type": "code",
      "source": [],
      "metadata": {
        "id": "FEVZtIx0YG8K"
      },
      "execution_count": null,
      "outputs": []
    }
  ]
}