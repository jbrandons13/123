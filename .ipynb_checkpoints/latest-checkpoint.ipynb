{
 "cells": [
  {
   "cell_type": "code",
   "execution_count": 1,
   "id": "b91e6a34",
   "metadata": {},
   "outputs": [],
   "source": [
    "import numpy as np\n",
    "from sklearn.ensemble import RandomForestClassifier\n",
    "from sklearn.model_selection import train_test_split\n",
    "from sklearn.metrics import accuracy_score\n",
    "from sklearn.preprocessing import StandardScaler"
   ]
  },
  {
   "cell_type": "code",
   "execution_count": 2,
   "id": "2c130d3e",
   "metadata": {},
   "outputs": [
    {
     "data": {
      "text/plain": [
       "(396, 24, 675)"
      ]
     },
     "execution_count": 2,
     "metadata": {},
     "output_type": "execute_result"
    }
   ],
   "source": [
    "def loadseq(file):\n",
    "    lines = []\n",
    "    with open(file, 'r') as file:\n",
    "        for line in file:\n",
    "            lines.append(line.strip())\n",
    "    return lines\n",
    "\n",
    "\n",
    "glutfile = 'glutoutputnoheader.fasta'\n",
    "sgltfile = 'newsgltoutputnoheader.fasta'\n",
    "sweetfile = 'newsweetoutputnoheader.fasta'\n",
    "# hxtfile = 'hxtoutputnoheader.fasta'\n",
    "# chbfile = 'chboutputnoheader.fasta'\n",
    "\n",
    "\n",
    "glut = loadseq(glutfile)\n",
    "sglt = loadseq(sgltfile)\n",
    "sweet = loadseq(sweetfile)\n",
    "# hxt = loadseq(hxtfile)\n",
    "# chb = loadseq(chbfile)\n",
    "\n",
    "# glut = glut[:25]\n",
    "# hxt = hxt[:25]\n",
    "# chb = chb[:5]\n",
    "\n",
    "glutlen = len(glut)\n",
    "sgltlen = len(sglt)\n",
    "sweetlen = len(sweet)\n",
    "# hxtlen = len(hxt)\n",
    "# chblen = len(chb)\n",
    "\n",
    "len(glut),len(sglt),len(sweet)"
   ]
  },
  {
   "cell_type": "code",
   "execution_count": 3,
   "id": "210884f4",
   "metadata": {},
   "outputs": [],
   "source": [
    "amino_acids = \"ACDEFGHIKLMNPQRSTVWY\"  # List of amino acids\n",
    "n_amino_acids = len(amino_acids)  # Number of amino acids"
   ]
  },
  {
   "cell_type": "code",
   "execution_count": 4,
   "id": "f17b6907",
   "metadata": {},
   "outputs": [],
   "source": [
    "def calculate_aac_features(sequences, amino_acids):\n",
    "    n_amino_acids = len(amino_acids)\n",
    "    features = []\n",
    "    for fasta_sequence in sequences:\n",
    "        aac = np.zeros(n_amino_acids)\n",
    "        for aa in fasta_sequence:\n",
    "            if aa in amino_acids:\n",
    "                index = amino_acids.index(aa)\n",
    "                aac[index] += 1\n",
    "\n",
    "        # Normalize the amino acid composition to obtain relative frequencies\n",
    "        aac /= len(fasta_sequence)\n",
    "\n",
    "        # Append the AAC feature vector to the feature list\n",
    "        features.append(aac)\n",
    "\n",
    "    return np.array(features)"
   ]
  },
  {
   "cell_type": "code",
   "execution_count": 5,
   "id": "65d5039e",
   "metadata": {},
   "outputs": [],
   "source": [
    "glut_ = calculate_aac_features(glut,amino_acids)\n",
    "sglt_ = calculate_aac_features(sglt,amino_acids)\n",
    "sweet_ = calculate_aac_features(sweet,amino_acids)\n",
    "# hxt_ = calculate_aac_features(hxt,amino_acids)\n",
    "# chb_ = calculate_aac_features(chb,amino_acids)"
   ]
  },
  {
   "cell_type": "code",
   "execution_count": 12,
   "id": "d3e8d299",
   "metadata": {},
   "outputs": [
    {
     "data": {
      "text/plain": [
       "(995, 20)"
      ]
     },
     "execution_count": 12,
     "metadata": {},
     "output_type": "execute_result"
    }
   ],
   "source": [
    "glut_test_count = 47\n",
    "sglt_test_count = 6\n",
    "sweet_test_count = 47\n",
    "\n",
    "x_train = np.concatenate((glut_[:glutlen-glut_test_count], sglt_[:sgltlen-sglt_test_count], sweet_[:sweetlen-sweet_test_count]), axis=0)\n",
    "x_test = np.concatenate((glut_[glutlen-glut_test_count:], sglt_[sgltlen-sglt_test_count:], sweet_[sweetlen-sweet_test_count:]), axis=0)\n",
    "\n",
    "# x_train = np.concatenate((glut_[:glutlen-1], sglt_[:sgltlen-1], hxt_[:hxtlen-1], chb_[:chblen-1]), axis=0)\n",
    "# x_test = np.concatenate((glut_[glutlen-1:], sglt_[sgltlen-1:], hxt_[hxtlen-1:], chb_[chblen-1:]), axis=0)\n",
    "\n",
    "# Create the corresponding labels\n",
    "\n",
    "y_train = np.array([\"GLUT\"] * (glutlen-glut_test_count) + [\"SGLT\"] * (sgltlen-sglt_test_count) + [\"SWEET\"] * (sweetlen-sweet_test_count))\n",
    "y_test = np.array([\"GLUT\"] * glut_test_count + [\"SGLT\"] * sglt_test_count + [\"SWEET\"] * sweet_test_count)\n",
    "\n",
    "# y_train = np.array([\"GLUT\"] * (glutlen-1) + [\"SGLT\"] * (sgltlen-1) + [\"HXT\"] * (hxtlen-1) + [\"CHB\"] * (chblen-1))\n",
    "# y_test = np.array([\"GLUT\"] * 1 + [\"SGLT\"] * 1 + [\"HXT\"] * 1 + [\"CHB\"] * 1)\n",
    "\n",
    "x_train.shape"
   ]
  },
  {
   "cell_type": "code",
   "execution_count": 13,
   "id": "531b3940",
   "metadata": {},
   "outputs": [
    {
     "name": "stdout",
     "output_type": "stream",
     "text": [
      "Training Accuracy: 0.9979899497487437\n",
      "Testing Accuracy: 0.79\n"
     ]
    },
    {
     "data": {
      "text/plain": [
       "(array(['GLUT', 'GLUT', 'GLUT', 'GLUT', 'GLUT', 'GLUT', 'GLUT', 'GLUT',\n",
       "        'GLUT', 'GLUT', 'GLUT', 'GLUT', 'GLUT', 'GLUT', 'GLUT', 'GLUT',\n",
       "        'GLUT', 'GLUT', 'GLUT', 'GLUT', 'GLUT', 'GLUT', 'GLUT', 'GLUT',\n",
       "        'GLUT', 'GLUT', 'GLUT', 'GLUT', 'GLUT', 'GLUT', 'GLUT', 'GLUT',\n",
       "        'GLUT', 'GLUT', 'GLUT', 'GLUT', 'GLUT', 'GLUT', 'GLUT', 'GLUT',\n",
       "        'GLUT', 'GLUT', 'GLUT', 'GLUT', 'GLUT', 'GLUT', 'GLUT', 'SGLT',\n",
       "        'SGLT', 'SGLT', 'SGLT', 'SGLT', 'SGLT', 'SWEET', 'SWEET', 'SWEET',\n",
       "        'SWEET', 'SWEET', 'SWEET', 'SWEET', 'SWEET', 'SWEET', 'SWEET',\n",
       "        'SWEET', 'SWEET', 'SWEET', 'SWEET', 'SWEET', 'SWEET', 'SWEET',\n",
       "        'SWEET', 'SWEET', 'SWEET', 'SWEET', 'SWEET', 'SWEET', 'SWEET',\n",
       "        'SWEET', 'SWEET', 'SWEET', 'SWEET', 'SWEET', 'SWEET', 'SWEET',\n",
       "        'SWEET', 'SWEET', 'SWEET', 'SWEET', 'SWEET', 'SWEET', 'SWEET',\n",
       "        'SWEET', 'SWEET', 'SWEET', 'SWEET', 'SWEET', 'SWEET', 'SWEET',\n",
       "        'SWEET', 'SWEET'], dtype='<U5'),\n",
       " array(['SWEET', 'SWEET', 'GLUT', 'GLUT', 'GLUT', 'GLUT', 'GLUT', 'GLUT',\n",
       "        'GLUT', 'GLUT', 'GLUT', 'GLUT', 'GLUT', 'SWEET', 'GLUT', 'GLUT',\n",
       "        'GLUT', 'GLUT', 'GLUT', 'SWEET', 'SWEET', 'SWEET', 'SWEET', 'GLUT',\n",
       "        'SWEET', 'GLUT', 'GLUT', 'SWEET', 'GLUT', 'GLUT', 'GLUT', 'GLUT',\n",
       "        'GLUT', 'GLUT', 'SWEET', 'GLUT', 'GLUT', 'GLUT', 'GLUT', 'GLUT',\n",
       "        'GLUT', 'GLUT', 'SWEET', 'GLUT', 'SWEET', 'SWEET', 'GLUT', 'SWEET',\n",
       "        'SGLT', 'SWEET', 'GLUT', 'GLUT', 'SWEET', 'SWEET', 'SWEET',\n",
       "        'SWEET', 'SWEET', 'SWEET', 'SWEET', 'GLUT', 'SWEET', 'SWEET',\n",
       "        'SWEET', 'SWEET', 'SWEET', 'SWEET', 'SWEET', 'SWEET', 'SWEET',\n",
       "        'SWEET', 'SWEET', 'SWEET', 'SWEET', 'SWEET', 'SWEET', 'SWEET',\n",
       "        'SWEET', 'SWEET', 'SWEET', 'SWEET', 'SWEET', 'SWEET', 'SWEET',\n",
       "        'GLUT', 'SWEET', 'SWEET', 'SWEET', 'SWEET', 'SWEET', 'SWEET',\n",
       "        'SWEET', 'GLUT', 'SWEET', 'SWEET', 'SWEET', 'SWEET', 'SWEET',\n",
       "        'SWEET', 'SWEET', 'SWEET'], dtype='<U5'))"
      ]
     },
     "execution_count": 13,
     "metadata": {},
     "output_type": "execute_result"
    }
   ],
   "source": [
    "classifier = RandomForestClassifier()\n",
    "classifier.fit(x_train, y_train)\n",
    "\n",
    "y_pred_train = classifier.predict(x_train)\n",
    "train_accuracy = accuracy_score(y_train, y_pred_train)\n",
    "print(\"Training Accuracy:\", train_accuracy)\n",
    "\n",
    "y_pred_test = classifier.predict(x_test)\n",
    "test_accuracy = accuracy_score(y_test, y_pred_test)\n",
    "print(\"Testing Accuracy:\", test_accuracy)\n",
    "\n",
    "y_test, y_pred_test"
   ]
  },
  {
   "cell_type": "code",
   "execution_count": 14,
   "id": "e19d4a70",
   "metadata": {},
   "outputs": [
    {
     "name": "stdout",
     "output_type": "stream",
     "text": [
      "Training Accuracy: 0.8904522613065327\n",
      "Testing Accuracy: 0.77\n"
     ]
    },
    {
     "data": {
      "text/plain": [
       "(array(['GLUT', 'GLUT', 'GLUT', 'GLUT', 'GLUT', 'GLUT', 'GLUT', 'GLUT',\n",
       "        'GLUT', 'GLUT', 'GLUT', 'GLUT', 'GLUT', 'GLUT', 'GLUT', 'GLUT',\n",
       "        'GLUT', 'GLUT', 'GLUT', 'GLUT', 'GLUT', 'GLUT', 'GLUT', 'GLUT',\n",
       "        'GLUT', 'GLUT', 'GLUT', 'GLUT', 'GLUT', 'GLUT', 'GLUT', 'GLUT',\n",
       "        'GLUT', 'GLUT', 'GLUT', 'GLUT', 'GLUT', 'GLUT', 'GLUT', 'GLUT',\n",
       "        'GLUT', 'GLUT', 'GLUT', 'GLUT', 'GLUT', 'GLUT', 'GLUT', 'SGLT',\n",
       "        'SGLT', 'SGLT', 'SGLT', 'SGLT', 'SGLT', 'SWEET', 'SWEET', 'SWEET',\n",
       "        'SWEET', 'SWEET', 'SWEET', 'SWEET', 'SWEET', 'SWEET', 'SWEET',\n",
       "        'SWEET', 'SWEET', 'SWEET', 'SWEET', 'SWEET', 'SWEET', 'SWEET',\n",
       "        'SWEET', 'SWEET', 'SWEET', 'SWEET', 'SWEET', 'SWEET', 'SWEET',\n",
       "        'SWEET', 'SWEET', 'SWEET', 'SWEET', 'SWEET', 'SWEET', 'SWEET',\n",
       "        'SWEET', 'SWEET', 'SWEET', 'SWEET', 'SWEET', 'SWEET', 'SWEET',\n",
       "        'SWEET', 'SWEET', 'SWEET', 'SWEET', 'SWEET', 'SWEET', 'SWEET',\n",
       "        'SWEET', 'SWEET'], dtype='<U5'),\n",
       " array(['SWEET', 'SWEET', 'GLUT', 'GLUT', 'SWEET', 'GLUT', 'GLUT', 'GLUT',\n",
       "        'GLUT', 'SWEET', 'GLUT', 'GLUT', 'GLUT', 'SWEET', 'GLUT', 'GLUT',\n",
       "        'GLUT', 'GLUT', 'GLUT', 'SWEET', 'SWEET', 'SWEET', 'SWEET', 'GLUT',\n",
       "        'SWEET', 'GLUT', 'GLUT', 'SWEET', 'GLUT', 'GLUT', 'GLUT', 'GLUT',\n",
       "        'GLUT', 'GLUT', 'SWEET', 'GLUT', 'GLUT', 'GLUT', 'GLUT', 'GLUT',\n",
       "        'GLUT', 'GLUT', 'SWEET', 'GLUT', 'SWEET', 'SWEET', 'GLUT', 'GLUT',\n",
       "        'GLUT', 'SWEET', 'GLUT', 'GLUT', 'SWEET', 'SWEET', 'SWEET',\n",
       "        'SWEET', 'SWEET', 'SWEET', 'SWEET', 'GLUT', 'SWEET', 'SWEET',\n",
       "        'SWEET', 'SWEET', 'SWEET', 'SWEET', 'SWEET', 'SWEET', 'SWEET',\n",
       "        'SWEET', 'SWEET', 'SWEET', 'SWEET', 'SWEET', 'SWEET', 'SWEET',\n",
       "        'SWEET', 'SWEET', 'SWEET', 'SWEET', 'SWEET', 'SWEET', 'SWEET',\n",
       "        'GLUT', 'SWEET', 'SWEET', 'SWEET', 'SWEET', 'SWEET', 'SWEET',\n",
       "        'SWEET', 'SWEET', 'SWEET', 'SWEET', 'SWEET', 'SWEET', 'SWEET',\n",
       "        'SWEET', 'SWEET', 'SWEET'], dtype='<U5'))"
      ]
     },
     "execution_count": 14,
     "metadata": {},
     "output_type": "execute_result"
    }
   ],
   "source": [
    "from sklearn import svm\n",
    "\n",
    "clf = svm.SVC()\n",
    "clf.fit(x_train, y_train)\n",
    "\n",
    "y_pred_train = clf.predict(x_train)\n",
    "train_accuracy = accuracy_score(y_train, y_pred_train)\n",
    "print(\"Training Accuracy:\", train_accuracy)\n",
    "\n",
    "y_pred_test = clf.predict(x_test)\n",
    "test_accuracy = accuracy_score(y_test, y_pred_test)\n",
    "print(\"Testing Accuracy:\", test_accuracy)\n",
    "\n",
    "y_test, y_pred_test"
   ]
  },
  {
   "cell_type": "code",
   "execution_count": 15,
   "id": "684ac948",
   "metadata": {},
   "outputs": [
    {
     "name": "stdout",
     "output_type": "stream",
     "text": [
      "Training Accuracy: 0.9125628140703518\n",
      "Testing Accuracy: 0.84\n"
     ]
    },
    {
     "data": {
      "text/plain": [
       "(array(['GLUT', 'GLUT', 'GLUT', 'GLUT', 'GLUT', 'GLUT', 'GLUT', 'GLUT',\n",
       "        'GLUT', 'GLUT', 'GLUT', 'GLUT', 'GLUT', 'GLUT', 'GLUT', 'GLUT',\n",
       "        'GLUT', 'GLUT', 'GLUT', 'GLUT', 'GLUT', 'GLUT', 'GLUT', 'GLUT',\n",
       "        'GLUT', 'GLUT', 'GLUT', 'GLUT', 'GLUT', 'GLUT', 'GLUT', 'GLUT',\n",
       "        'GLUT', 'GLUT', 'GLUT', 'GLUT', 'GLUT', 'GLUT', 'GLUT', 'GLUT',\n",
       "        'GLUT', 'GLUT', 'GLUT', 'GLUT', 'GLUT', 'GLUT', 'GLUT', 'SGLT',\n",
       "        'SGLT', 'SGLT', 'SGLT', 'SGLT', 'SGLT', 'SWEET', 'SWEET', 'SWEET',\n",
       "        'SWEET', 'SWEET', 'SWEET', 'SWEET', 'SWEET', 'SWEET', 'SWEET',\n",
       "        'SWEET', 'SWEET', 'SWEET', 'SWEET', 'SWEET', 'SWEET', 'SWEET',\n",
       "        'SWEET', 'SWEET', 'SWEET', 'SWEET', 'SWEET', 'SWEET', 'SWEET',\n",
       "        'SWEET', 'SWEET', 'SWEET', 'SWEET', 'SWEET', 'SWEET', 'SWEET',\n",
       "        'SWEET', 'SWEET', 'SWEET', 'SWEET', 'SWEET', 'SWEET', 'SWEET',\n",
       "        'SWEET', 'SWEET', 'SWEET', 'SWEET', 'SWEET', 'SWEET', 'SWEET',\n",
       "        'SWEET', 'SWEET'], dtype='<U5'),\n",
       " array(['GLUT', 'GLUT', 'GLUT', 'GLUT', 'GLUT', 'GLUT', 'GLUT', 'GLUT',\n",
       "        'GLUT', 'GLUT', 'GLUT', 'GLUT', 'GLUT', 'SWEET', 'GLUT', 'GLUT',\n",
       "        'GLUT', 'GLUT', 'GLUT', 'SWEET', 'SWEET', 'SWEET', 'GLUT', 'GLUT',\n",
       "        'GLUT', 'GLUT', 'GLUT', 'GLUT', 'GLUT', 'GLUT', 'GLUT', 'GLUT',\n",
       "        'GLUT', 'GLUT', 'GLUT', 'SWEET', 'GLUT', 'GLUT', 'GLUT', 'GLUT',\n",
       "        'GLUT', 'GLUT', 'SWEET', 'GLUT', 'SWEET', 'SWEET', 'GLUT', 'GLUT',\n",
       "        'SGLT', 'SWEET', 'SGLT', 'SGLT', 'SWEET', 'SWEET', 'SWEET',\n",
       "        'SWEET', 'SWEET', 'SWEET', 'SWEET', 'SWEET', 'SWEET', 'SWEET',\n",
       "        'SWEET', 'SWEET', 'SWEET', 'SWEET', 'SWEET', 'SWEET', 'SWEET',\n",
       "        'SWEET', 'SWEET', 'SWEET', 'GLUT', 'GLUT', 'SWEET', 'GLUT',\n",
       "        'SWEET', 'SWEET', 'SWEET', 'SWEET', 'SWEET', 'SWEET', 'SWEET',\n",
       "        'GLUT', 'SWEET', 'SWEET', 'SWEET', 'SWEET', 'SWEET', 'SWEET',\n",
       "        'SWEET', 'SGLT', 'SWEET', 'SWEET', 'SWEET', 'SWEET', 'SWEET',\n",
       "        'SWEET', 'SWEET', 'SWEET'], dtype='<U5'))"
      ]
     },
     "execution_count": 15,
     "metadata": {},
     "output_type": "execute_result"
    }
   ],
   "source": [
    "from sklearn.neighbors import KNeighborsClassifier\n",
    "knn = KNeighborsClassifier(n_neighbors=4)\n",
    "knn.fit(x_train, y_train)\n",
    "\n",
    "y_pred_train = knn.predict(x_train)\n",
    "train_accuracy = accuracy_score(y_train, y_pred_train)\n",
    "print(\"Training Accuracy:\", train_accuracy)\n",
    "\n",
    "y_pred_test = knn.predict(x_test)\n",
    "test_accuracy = accuracy_score(y_test, y_pred_test)\n",
    "print(\"Testing Accuracy:\", test_accuracy)\n",
    "\n",
    "y_test, y_pred_test"
   ]
  },
  {
   "cell_type": "code",
   "execution_count": 22,
   "id": "4c0c0eec",
   "metadata": {},
   "outputs": [
    {
     "name": "stdout",
     "output_type": "stream",
     "text": [
      "Training Accuracy: 0.9979899497487437\n",
      "Testing Accuracy: 0.86\n",
      "[[1.11364812e-01 1.23657845e-03 8.87398601e-01]\n",
      " [7.90315866e-01 8.59487685e-04 2.08824635e-01]\n",
      " [9.99778211e-01 1.90689098e-05 2.02710202e-04]\n",
      " [9.93032694e-01 6.09995295e-05 6.90628728e-03]\n",
      " [9.57801998e-01 4.19429649e-04 4.17786762e-02]\n",
      " [9.99207914e-01 2.76527971e-05 7.64530268e-04]\n",
      " [9.99683142e-01 4.49176550e-05 2.71990924e-04]\n",
      " [9.73717213e-01 3.17188242e-04 2.59655491e-02]\n",
      " [9.28654313e-01 2.16184906e-03 6.91838264e-02]\n",
      " [9.71134245e-01 8.08380195e-04 2.80573834e-02]\n",
      " [9.63156998e-01 2.02342402e-02 1.66088250e-02]\n",
      " [9.93726075e-01 2.15549098e-05 6.25235448e-03]\n",
      " [9.59499657e-01 5.49872697e-04 3.99505123e-02]\n",
      " [2.59808591e-03 2.13533320e-04 9.97188389e-01]\n",
      " [9.99331474e-01 1.24107770e-04 5.44426381e-04]\n",
      " [9.99879479e-01 1.73052813e-05 1.03216014e-04]\n",
      " [9.95730817e-01 6.74173818e-04 3.59501597e-03]\n",
      " [9.99706566e-01 3.26184381e-05 2.60770234e-04]\n",
      " [9.95834589e-01 9.63426428e-05 4.06899536e-03]\n",
      " [5.26982509e-02 3.80408572e-04 9.46921408e-01]\n",
      " [3.98449413e-02 3.57820746e-03 9.56576884e-01]\n",
      " [3.87608563e-03 1.59517964e-04 9.95964408e-01]\n",
      " [9.12415564e-01 1.26192509e-03 8.63225088e-02]\n",
      " [9.46311355e-01 5.86377573e-04 5.31022921e-02]\n",
      " [6.58602417e-02 5.26097312e-04 9.33613598e-01]\n",
      " [9.99361455e-01 3.40990409e-05 6.04531262e-04]\n",
      " [9.96797860e-01 5.34179737e-04 2.66805128e-03]\n",
      " [6.94609463e-01 5.87722519e-04 3.04802835e-01]\n",
      " [9.76355612e-01 2.25509575e-04 2.34187935e-02]\n",
      " [9.27194417e-01 1.37992017e-03 7.14255497e-02]\n",
      " [9.45307314e-01 2.30358230e-04 5.44623807e-02]\n",
      " [8.22620213e-01 3.31182103e-03 1.74067929e-01]\n",
      " [9.95832026e-01 4.81007359e-04 3.68694775e-03]\n",
      " [9.94578242e-01 3.72937473e-04 5.04883984e-03]\n",
      " [7.44417191e-01 3.02681030e-04 2.55280167e-01]\n",
      " [9.13638949e-01 1.03691441e-03 8.53241757e-02]\n",
      " [9.93885934e-01 3.06950533e-04 5.80707844e-03]\n",
      " [9.92869675e-01 7.33757915e-04 6.39661308e-03]\n",
      " [9.99774635e-01 8.97235368e-05 1.35603506e-04]\n",
      " [9.97172177e-01 1.54258960e-04 2.67358380e-03]\n",
      " [9.99622941e-01 3.74209158e-05 3.39605904e-04]\n",
      " [9.98197734e-01 1.54974085e-04 1.64733094e-03]\n",
      " [1.00960828e-01 8.06939323e-04 8.98232222e-01]\n",
      " [9.89560008e-01 4.76491638e-03 5.67505322e-03]\n",
      " [1.93097850e-03 9.47232184e-05 9.97974336e-01]\n",
      " [4.46592458e-03 2.33563158e-04 9.95300531e-01]\n",
      " [9.87336934e-01 4.86556499e-04 1.21764932e-02]\n",
      " [8.83889720e-02 3.43481079e-03 9.08176184e-01]\n",
      " [1.73005909e-01 8.16714823e-01 1.02792811e-02]\n",
      " [7.90397171e-03 7.30441709e-04 9.91365552e-01]\n",
      " [1.72572464e-01 8.19251359e-01 8.17622337e-03]\n",
      " [4.65675592e-01 4.89603221e-01 4.47212569e-02]\n",
      " [1.18324710e-02 5.83845831e-04 9.87583697e-01]\n",
      " [5.82192260e-05 1.89387792e-05 9.99922872e-01]\n",
      " [2.06114200e-04 1.55245925e-05 9.99778330e-01]\n",
      " [6.57824203e-05 2.17723682e-05 9.99912381e-01]\n",
      " [1.13106369e-04 1.91914714e-05 9.99867678e-01]\n",
      " [9.13577713e-03 4.01407568e-04 9.90462840e-01]\n",
      " [1.48092466e-03 3.95618517e-05 9.98479545e-01]\n",
      " [9.29197133e-01 2.65285745e-03 6.81500733e-02]\n",
      " [8.76746708e-05 8.29445617e-06 9.99904037e-01]\n",
      " [2.44305767e-02 2.38291061e-04 9.75331187e-01]\n",
      " [1.32411893e-04 6.77093658e-06 9.99860764e-01]\n",
      " [1.21508638e-04 1.81128598e-05 9.99860406e-01]\n",
      " [2.97008851e-03 3.16215483e-05 9.96998310e-01]\n",
      " [2.64866510e-04 2.63920556e-05 9.99708712e-01]\n",
      " [6.15676108e-04 6.42624145e-05 9.99320030e-01]\n",
      " [2.16651498e-03 7.52667896e-04 9.97080743e-01]\n",
      " [8.57421037e-05 1.95922446e-04 9.99718368e-01]\n",
      " [4.28495579e-04 1.87532132e-04 9.99383926e-01]\n",
      " [1.78784616e-02 1.15259215e-02 9.70595658e-01]\n",
      " [2.24548788e-03 4.91406361e-04 9.97263074e-01]\n",
      " [1.07751200e-02 8.66610964e-04 9.88358319e-01]\n",
      " [1.30228594e-01 8.65847524e-03 8.61112893e-01]\n",
      " [8.60534667e-04 3.73757139e-05 9.99102116e-01]\n",
      " [3.96512775e-03 3.07294121e-03 9.92961943e-01]\n",
      " [4.72601391e-02 2.77833402e-04 9.52462018e-01]\n",
      " [1.32012069e-01 6.49748428e-04 8.67338181e-01]\n",
      " [4.45203303e-04 3.82773258e-04 9.99172091e-01]\n",
      " [7.05209677e-04 8.89888106e-05 9.99205768e-01]\n",
      " [1.09932793e-03 6.17021171e-04 9.98283625e-01]\n",
      " [8.36857187e-04 1.23798003e-04 9.99039352e-01]\n",
      " [1.63695496e-02 4.81397670e-04 9.83149052e-01]\n",
      " [9.84651208e-01 1.28050998e-03 1.40682980e-02]\n",
      " [2.78702169e-03 6.82494210e-05 9.97144759e-01]\n",
      " [3.63152325e-02 1.66818674e-04 9.63517964e-01]\n",
      " [3.28334136e-05 1.54575046e-05 9.99951720e-01]\n",
      " [2.78727687e-03 6.40934377e-05 9.97148693e-01]\n",
      " [1.60835928e-03 3.80800084e-05 9.98353601e-01]\n",
      " [9.46483560e-05 9.53265317e-06 9.99895811e-01]\n",
      " [1.43959392e-02 1.54842885e-04 9.85449255e-01]\n",
      " [6.90287277e-02 1.82096899e-01 7.48874426e-01]\n",
      " [1.01299578e-04 5.99212171e-06 9.99892712e-01]\n",
      " [8.14706218e-05 1.11888585e-05 9.99907374e-01]\n",
      " [9.45867524e-02 2.54309009e-04 9.05158877e-01]\n",
      " [6.07854174e-03 8.05651507e-05 9.93840814e-01]\n",
      " [4.06562729e-04 1.74562119e-05 9.99576032e-01]\n",
      " [5.08121680e-04 9.76777392e-06 9.99482095e-01]\n",
      " [1.32539766e-02 1.21555291e-04 9.86624479e-01]\n",
      " [8.45009927e-04 6.41774895e-05 9.99090791e-01]]\n"
     ]
    }
   ],
   "source": [
    "import xgboost as xgb\n",
    "from sklearn.preprocessing import LabelEncoder\n",
    "\n",
    "encoder = LabelEncoder()\n",
    "y_train = encoder.fit_transform(y_train)\n",
    "y_test = encoder.fit_transform(y_test)\n",
    "model = xgb.XGBClassifier(objective='multi:softmax', num_class=len(y_train))\n",
    "model.fit(x_train, y_train)\n",
    "\n",
    "y_pred_train = model.predict(x_train)\n",
    "train_accuracy = accuracy_score(y_train, y_pred_train)\n",
    "print(\"Training Accuracy:\", train_accuracy)\n",
    "\n",
    "y_pred_test = model.predict(x_test)\n",
    "test_accuracy = accuracy_score(y_test, y_pred_test)\n",
    "print(\"Testing Accuracy:\", test_accuracy)\n",
    "\n",
    "y_test = encoder.inverse_transform(y_test)\n",
    "y_pred_test = encoder.inverse_transform(y_pred_test)\n",
    "y_test, y_pred_test\n"
   ]
  },
  {
   "cell_type": "code",
   "execution_count": 19,
   "id": "d00adbd0",
   "metadata": {},
   "outputs": [
    {
     "name": "stdout",
     "output_type": "stream",
     "text": [
      "[0 0 0 0 0 0 0 0 0 0 0 0 0 0 0 0 0 0 0 0 0 0 0 0 0 0 0 0 0 0 0 0 0 0 0 0 0\n",
      " 0 0 0 0 0 0 0 0 0 0 1 1 1 1 1 1 2 2 2 2 2 2 2 2 2 2 2 2 2 2 2 2 2 2 2 2 2\n",
      " 2 2 2 2 2 2 2 2 2 2 2 2 2 2 2 2 2 2 2 2 2 2 2 2 2 2]\n"
     ]
    }
   ],
   "source": [
    "from sklearn.preprocessing import LabelEncoder\n",
    "le = LabelEncoder()\n",
    "y_test_enc = le.fit_transform(y_test)\n",
    "y_test_enc = le.transform(y_test)\n",
    "print(y_test_enc)"
   ]
  },
  {
   "cell_type": "code",
   "execution_count": null,
   "id": "00fd68ce-4238-4ddc-b13c-0b6f2e428836",
   "metadata": {},
   "outputs": [],
   "source": [
    "from sklearn.metrics  import roc_curve, auc\n",
    "from sklearn.multiclass import OneVsRestClassifier\n",
    "tpr,fpr, threshold = roc_curve(y_test,y_pred_test)\n",
    "\n",
    "roc_auc = auc(fpr, tpr)\n",
    "\n",
    "# Plotting the ROC curve\n",
    "plt.figure()\n",
    "plt.plot(fpr, tpr, color='darkorange', lw=2, label='Combined ROC curve (AUC = %0.2f)' % roc_auc)\n",
    "plt.plot([0, 1], [0, 1], color='navy', lw=2, linestyle='--')\n",
    "plt.xlim([0.0, 1.0])\n",
    "plt.ylim([0.0, 1.05])\n",
    "plt.xlabel('False Positive Rate')\n",
    "plt.ylabel('True Positive Rate')\n",
    "plt.title('Receiver Operating Characteristic (ROC)')\n",
    "plt.legend(loc=\"lower right\")\n",
    "plt.show()"
   ]
  },
  {
   "cell_type": "code",
   "execution_count": null,
   "id": "8ad62e04",
   "metadata": {},
   "outputs": [],
   "source": []
  },
  {
   "cell_type": "code",
   "execution_count": null,
   "id": "7a66b70d-ee66-4095-a962-3a95ea8fae9d",
   "metadata": {},
   "outputs": [],
   "source": []
  }
 ],
 "metadata": {
  "kernelspec": {
   "display_name": "Python 3 (ipykernel)",
   "language": "python",
   "name": "python3"
  },
  "language_info": {
   "codemirror_mode": {
    "name": "ipython",
    "version": 3
   },
   "file_extension": ".py",
   "mimetype": "text/x-python",
   "name": "python",
   "nbconvert_exporter": "python",
   "pygments_lexer": "ipython3",
   "version": "3.8.15"
  }
 },
 "nbformat": 4,
 "nbformat_minor": 5
}
